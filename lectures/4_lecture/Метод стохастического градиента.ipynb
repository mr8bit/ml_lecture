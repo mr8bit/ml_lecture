{
 "cells": [
  {
   "cell_type": "markdown",
   "metadata": {},
   "source": [
    "# Метод стохастического градиента\n",
    "\n",
    "Метод стохастичесткого градиента (метод стохастического градиентного спуска, stochastic gradient descent (SGD)) — оптимизированный по скорости сходимости метод градиентного спуска.\n",
    "\n",
    "Отличием от традиционного градиентного метода является то, что элементы рассматриваются по отдельности, в некотором случайном порядке или в порядке их получения.\n",
    "\n",
    "Таким образом, градиент функции стоимости будет вычисляться не для всех элементов в выборке, как это делается при традиционном методе градиентного спуска, а для каждого элемента в отдельности. Градиент, вычисленный для конкретного элемента, принимается как приближение реального градиента. Веса в модели пересчитываются в соотвествии с вычисленным градиентом для одного элемента, что приводит к тому, что модель корректируюется при переходе от каждого очередного элемента выборки к следующему.\n",
    "\n",
    "## Алгоритм\n",
    "\n",
    "1. Перемешиваем датасет случайным образом\n",
    "\n",
    "2. Цикл по всем элементам выборки:\n",
    "    \n",
    "    2.1 Цикл по всем весам модели:\n",
    "        \n",
    "        2.1.1. Корректируем текущий вес в соответсвии с частной производной функции стоимости по нему\n",
    "\n",
    "\n",
    "Важно понимать, что в отличие от традиционного метода градиентного спуска, данный алгоритм на каждом шаге может и не стремиться к минимуму функции стоимости, но в результате некоторого количества шагов общее направление как раз и будет стремиться к этому минимуму.\n",
    "\n",
    "## Реализация\n",
    "\n"
   ]
  },
  {
   "cell_type": "code",
   "execution_count": 2,
   "metadata": {},
   "outputs": [
    {
     "name": "stdout",
     "output_type": "stream",
     "text": [
      "Точность на тестовом наборе: 0.87\n"
     ]
    },
    {
     "data": {
      "image/png": "[encoded data removed]",
      "text/plain": [
       "<Figure size 288x216 with 1 Axes>"
      ]
     },
     "metadata": {},
     "output_type": "display_data"
    }
   ],
   "source": [
    "import pandas as pd\n",
    "from sklearn.linear_model import LogisticRegression\n",
    "from sklearn.datasets import load_wine\n",
    "from sklearn.linear_model import SGDClassifier\n",
    "from sklearn.model_selection import train_test_split \n",
    "from sklearn.model_selection import train_test_split \n",
    "\n",
    "dataset = load_wine()\n",
    "X_train, X_test, y_train, y_test = train_test_split(dataset['data'], dataset['target'], random_state=15)\n",
    "μ = X_train.mean(axis=0)\n",
    "σ = X_train.std(axis=0)\n",
    "\n",
    "X_train_normalized = (X_train - μ) / σ\n",
    "X_test_normalized = (X_test - μ) / σ\n",
    "\n",
    "\n",
    "clf = SGDClassifier(loss=\"log\", penalty=\"l1\", max_iter=10000)\n",
    "\n",
    "selection = pd.DataFrame(X_train_normalized, columns=dataset.feature_names)[['alcohol', 'od280/od315_of_diluted_wines']]\n",
    "\n",
    "clf.fit(selection, y_train)\n",
    "\n",
    "test_selection = pd.DataFrame(X_test_normalized, columns=dataset.feature_names)[['alcohol', 'od280/od315_of_diluted_wines']]\n",
    "\n",
    "print(\"Точность на тестовом наборе: {:.2f}\".format(clf.score(test_selection, y_test)))\n",
    "\n",
    "import numpy as np\n",
    "import matplotlib.pyplot as plt\n",
    "\n",
    "X = test_selection.values\n",
    "Y = y_test\n",
    "\n",
    "x_min, x_max = X[:, 0].min() - .5, X[:, 0].max() + .5\n",
    "y_min, y_max = X[:, 1].min() - .5, X[:, 1].max() + .5\n",
    "h = .02\n",
    "xx, yy = np.meshgrid(np.arange(x_min, x_max, h), np.arange(y_min, y_max, h))\n",
    "\n",
    "Z = clf.predict(np.c_[xx.ravel(), yy.ravel()])\n",
    "Z = Z.reshape(xx.shape)\n",
    "plt.figure(1, figsize=(4, 3))\n",
    "plt.pcolormesh(xx, yy, Z, cmap=plt.cm.brg)\n",
    "\n",
    "plt.scatter(X[:, 0], X[:, 1], c=Y, edgecolors='k', cmap=plt.cm.brg)\n",
    "plt.xlabel('alcohol')\n",
    "plt.ylabel('od280/od315_of_diluted_wines')\n",
    "\n",
    "plt.xlim(xx.min(), xx.max())\n",
    "plt.ylim(yy.min(), yy.max())\n",
    "plt.xticks(())\n",
    "plt.yticks(())\n",
    "\n",
    "plt.show()"
   ]
  },
  {
   "cell_type": "code",
   "execution_count": 3,
   "metadata": {},
   "outputs": [
    {
     "name": "stdout",
     "output_type": "stream",
     "text": [
      "Точность на тестовом наборе: 1.00\n"
     ]
    }
   ],
   "source": [
    "clf = SGDClassifier(loss=\"log\", penalty=\"l2\", max_iter=5)\n",
    "\n",
    "clf.fit(X_train_normalized, y_train)\n",
    "print(\"Точность на тестовом наборе: {:.2f}\".format(clf.score(X_test_normalized, y_test)))"
   ]
  },
  {
   "cell_type": "code",
   "execution_count": null,
   "metadata": {},
   "outputs": [],
   "source": []
  }
 ],
 "metadata": {
  "kernelspec": {
   "display_name": "Python 3",
   "language": "python",
   "name": "python3"
  },
  "language_info": {
   "codemirror_mode": {
    "name": "ipython",
    "version": 3
   },
   "file_extension": ".py",
   "mimetype": "text/x-python",
   "name": "python",
   "nbconvert_exporter": "python",
   "pygments_lexer": "ipython3",
   "version": "3.6.5"
  }
 },
 "nbformat": 4,
 "nbformat_minor": 2
}
