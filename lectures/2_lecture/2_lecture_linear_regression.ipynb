{
 "cells": [
  {
   "cell_type": "markdown",
   "metadata": {},
   "source": [
    "\n",
    "# Линейная регрессия  \n",
    "Сегодня пойдет речь о регрессии, как обучать и какие проблемы могут вам попасться при использовании таких моделей.\n",
    "\n",
    "Для начала давайте введем удобные обозначения. \n",
    "\n",
    "$\\mathbb{X} - \\text{пространство объектов}$\n",
    "\n",
    "$\\mathbb{Y} - \\text{пространство ответов}$\n",
    "\n",
    "$ x = (x^1, ... x^n) - \\text{признаковое описание объекта}$\n",
    "\n",
    "$ X = (x_i,y_i)^l_{i=1} - \\text{обучающая выборка} $\n",
    "\n",
    "$ a(x) - \\text{алгоритм, модель} $\n",
    "\n",
    "$ Q(a,X) - \\text{функция ошибки алгоритма a на выборке X} $\n",
    "\n",
    "$  \\text{Обучение} - a(x) = \\text{argmin}_{a \\in \\mathbb{A}} Q(a,X)$\n",
    "\n",
    "Но этого мало, давайте разберем, что такое функционал ошибки, семейство алгоритмов, метод обучения.\n",
    "- **Функционал ошибки** Q: способ измерения того, хорошо или плохо работает алгоритм на конкретной выборке\n",
    "- **Семейство алгоритмов** $\\mathbb{A}$: как выглядит множество алгоритмов, из которых выбирается лучший\n",
    "- **Метод обучения**: как именно выбирается лучший алгоритм из семейства алгоритмов.\n",
    "\n",
    "### Пример задачи регрессии: предсказание количества заказов магазина\n",
    "\n",
    "Пусть известен один признак - расстояние кафе от метро, а предсказать необходимо количество заказов. Поскольку количество заказов - вещественное число $\\mathbb{R}$, здесь идет речь о задаче регрессии.\n",
    "\n",
    "![chart](img/chart.png)\n",
    "\n",
    "По графику можно сделать вывод о существование зависимости между расстоянием от метро и количеством заказов. Можно предположить, что зависимость линейна, ее можно представить в видео прямой на графике. По этой прямой и можно будет предсказывать количество заказов, если известно расстояние от метро.\n",
    "\n",
    "В целом такая модель угадывает тенденцию, то есть описывает зависимость между ответом и признаком. \n",
    "При этом, разумеется ,она делает это не идеально, с некоторой ошибкой. Истинный ответ на каждом объекте несколько отклоняется от прогноза.\n",
    "\n",
    "Один признак - это несерьезно. Гораздо сложнее и интереснее работать с многомерными выборками, которые описываются большим количеством признаков. В этом случае отобразить выборку и понять, подходит ли модель или нет, нельзя. Можно лишь оценить ее качество и по нему уже понять, подходит ли эта модель.\n",
    "\n",
    "### Описание линейной модели\n",
    "\n",
    "Давайте обсудим, как выглядит семейство алгоритмов в случае с линейными моделями. Линейный алгоритм в задачах регрессии выглядит следующим образом\n",
    "\n",
    "$$ a(x)=w_0 + \\sum\\limits_{j=1}^d w_j x^j $$\n",
    "\n",
    "где $w_0$ - свободный коэффициент, $x^j$ - признаки, а $w_j$ - их веса.\n",
    "\n",
    "Если у нашего набора данных есть только один признак, то алгоритм выглядит так\n",
    "\n",
    "$$ a(x)=w_0 + w x $$\n",
    "\n",
    "Ничего не напоминает? Да, действительно это обычная линейная функция, известная с 7 класса.\n",
    "\n",
    "$$ y = kx+b $$\n",
    "\n",
    "\n",
    "В качестве меры ошибки мы не может быть выбрано отклонение от прогноза $Q(a,y)=a(x)-y$, так как в этом случае минимум функционала не будет достигаться при правильном ответе $a(x)=y$. Самый простой способ - считать модуль отклонения.\n",
    "\n",
    "$$ |a(x)-y| $$\n",
    "\n",
    "Но функция модуля не является гладкой функцией, и для оптимизации такого функционала неудобно использовать градиентные методы. Поэтому в качестве меры ошибки часто используют квадрат отклонения: \n",
    "\n",
    "$$ (a(x)-y)^2 $$\n",
    "\n",
    "Функционал ошибки, именуемый среднеквадратичной ошибкой алгоритма, задается следующим образом:\n",
    "\n",
    "$$ Q(a,x) = \\frac{1}{l} \\sum\\limits_{i=1}^l (a(x_i)- y_i)^2 $$\n",
    "\n",
    "В случае линейной модели его можно переписать в виде функции (поскольку теперь Q зависит от вектора, а не от функции) ошибок:\n",
    "$$ Q(\\omega,x) = \\frac{1}{l} \\sum\\limits_{i=1}^l ( \\langle w_i,x_i\\rangle- y_i) ^2 $$ \n",
    "\n",
    "\n",
    "\n",
    "\n",
    "### Обучение модели линейной регрессии\n",
    "\n",
    "\n",
    "Разберем том, как обучать модель линейной регрессии, то есть как настраивать ее параметры.\n",
    "$$ Q(w,x) = \\frac{1}{l} \\sum\\limits_{i=1}^l ( \\langle w_i,x_i\\rangle- y_i) ^2 \\to \\min_{w}$$ \n",
    "\n",
    "То есть нам необходимо подобрать $w$, что бы линия могла описать наши данные. Или же задача состоит в нахождение таких $w$, что бы была минимальна ошибка $ Q(w,x)$\n",
    "\n",
    "\n",
    "### Матричная форма записи\n",
    "Прежде, чем рассмотрим задачу о оптимизации этой функции, имеет смысл используемые соотношения в матричной форме. Матрица \"объекты-признаки\" $X$ составлена из признаков описаний все объектов выборки\n",
    "\n",
    "$$ X = \\begin{pmatrix} x_{11} & ... & x_{1d} \\\\ ... & ... & ... \\\\ x_{l1} & ... & x_{ld}  \\end{pmatrix} $$\n",
    "\n",
    "Таким образом, в $ij$ элементе матрицы $X$ записано значение $j$-го признака на i объекте обучающей выборки. Или короче говоря, каждая строчка - это объект, а каждый столбец - это признак.Так же понадобится вектор ответов y, который составлен из истинных ответов для всех объектов.\n",
    "\n",
    "$$ y = \\begin{pmatrix} y_{1} \\\\ ...\\\\ y_{l} \\end{pmatrix}  $$\n",
    "\n",
    "В этом случае среднеквадратичная шибка может быть переписана в матричном виде: \n",
    "\n",
    "$$ Q(w,X) = \\frac{1}{l} || Xw-y ||^2 \\to \\min_{w}$$ \n",
    "\n",
    "\n",
    "\n",
    "### Оптимизационный метод решения \n",
    "Самый лучший метод - это численный метод оптимизации. \n",
    "\n",
    "Не сложно показать, что среднеквадратичная ошибка - это [выпуклая](https://www.google.com/search?q=%D0%B2%D1%8B%D0%BF%D1%83%D0%BA%D0%BB%D0%B0%D1%8F+%D1%84%D1%83%D0%BD%D0%BA%D1%86%D0%B8%D1%8F&ie=utf-8&oe=utf-8&client=firefox-b-ab) и [гладкая функция](https://www.google.com/search?client=firefox-b-ab&ei=pGe2W_nfBanrrgSj26jQDw&q=%D0%B3%D0%BB%D0%B0%D0%B4%D0%BA%D0%B0%D1%8F+%D1%84%D1%83%D0%BD%D0%BA%D1%86%D0%B8%D1%8F&oq=%D0%B3%D0%BB%D0%B0%D0%B4%D0%BA%D0%B0%D1%8F+%D1%84%D1%83%D0%BD%D0%BA%D1%86%D0%B8%D1%8F&gs_l=psy-ab.3..0i71k1l8.39617.39617.0.39796.0.0.0.0.0.0.0.0..0.0....0...1c.2.64.psy-ab..0.0.0....0.tajPqE40fXU). Выпуклость гарантирует существование лишь одного минимумам, а гладкость - существование вектора градиента в каждой точке. Это позволяет использовать метод градиентного спуска.\n",
    "\n",
    "При использовании метода градиентного спуска необходимо указать начальное приближение. Есть много\n",
    "подходов к тому, как это сделать, в том числе инициализировать случайными числами (не очень большими). Самый простой способ это сделать — инициализировать значения всех весов равными нулю:\n",
    "\n",
    "$$ w^0=0 $$\n",
    "\n",
    "На каждой следующей итерации, $t = 1, 2, 3, ...,$ из приближения, полученного в предыдущей итерации $w^{t−1}$, вычитается вектор градиента в соответствующей точке $w^{t−1}$, умноженный на некоторый коэффициент $\\eta_t$, называемый шагом:\n",
    "\n",
    "$$ w^t = w^{t-1} - \\eta_t \\Delta Q(w^{t-1},X) $$\n",
    "\n",
    "Остановить итерации следует , когда наступает сходимость. Сходимость можно определять по-разному .В данном случае разумно определить сходимость следующим образом: итерации следует завершить, если разница\n",
    "двух последовательных приближений не слишком велика:\n",
    "\n",
    "$$ ||w^t - w^{t-1} ||<\\epsilon $$\n",
    "\n",
    "### Случай парной регрессии\n",
    "В случае парной регрессии признак всего один, а линейная модель выглядит следующим образом:\n",
    "$$ a(x)=w_0 + w x $$\n",
    "где $w_1$ и $w_0$ - два параметра.\n",
    "Среднеквадратичная ошибка принимает вид:\n",
    "\n",
    "$$ Q(w_0,w_1,X) = \\frac{1}{l} \\sum\\limits_{i=1}^l (w_1x_i+w_0 -y_i) ^2$$ \n",
    "\n",
    "Для нахождения оптимальных параметров будет применяться метод градиентного спуска, про который уже было сказано ранее. Чтобы это сделать, необходимо сначала вычислить частные производные функции ошибки:\n",
    "\n",
    "$$\\frac{\\partial Q}{\\partial w_1} = \\frac{2}{l} \\sum\\limits_{i=1}^l (w_1x_i+w_0-y_i)x_i$$\n",
    "\n",
    "$$\\frac{\\partial Q}{\\partial w_0} = \\frac{2}{l} \\sum\\limits_{i=1}^l (w_1x_i+w_0-y_i)$$\n",
    "\n",
    "Следующие два графика демонстрируют применение метода градиентного спуска в случае парной регрессии. Справа изображены точки выборки, а слева — пространство параметров. Точка в этом пространстве обозначает конкретную модель (кафе)\n",
    "\n",
    "![Example](img/exmpl.gif)\n",
    "\n",
    "График зависимости функции ошибки от числа произведенных операции выглядит следующим образом:\n",
    "![Example](img/erorr_in_count.png)\n",
    "\n",
    "### Выбор размера шага в методе градиентного спуска\n",
    "Очень важно при использовании метода градиентного спуска правильно подбирать шаг. Каких-либо концерт- иных правил подбора шага не существует, выбор шага — это искусство, но существует несколько полезных закономерностей.\n",
    "\n",
    "![Example](img/gardient_step.png)\n",
    "\n",
    "\n",
    "Если длина шага слишком мала, то метод будет неспешна, но верно шагать в сторону минимума. Если же\n",
    "взять размер шага очень большим, появляется риск, что метод будет перепрыгивать через минимум. Более\n",
    "того, есть риск того, что градиентный спуск не сойдется.\n",
    "\n",
    "Имеет смысл использовать переменный размер шага: сначала, когда точка минимума находится еще да-\n",
    "легко, двигаться быстро, а позже, спустя некоторое количество итерации — делать более аккуратные шаги.\n",
    "Один из способов задать размер шага следующий:\n",
    "\n",
    "$$ \\eta_t = \\frac{k}{t} $$\n",
    "\n",
    "где $k$-константа, которую необходимо подобрать, а $t$ - номер шага. \n"
   ]
  },
  {
   "cell_type": "code",
   "execution_count": 25,
   "metadata": {},
   "outputs": [
    {
     "data": {
      "image/png": "[encoded data removed]",
      "text/plain": [
       "<Figure size 432x288 with 1 Axes>"
      ]
     },
     "metadata": {},
     "output_type": "display_data"
    }
   ],
   "source": [
    "import matplotlib.pyplot as plt # библиотека для отрисовки графиков\n",
    "import numpy as np # импортируем numpy для создания своего датасета \n",
    "from sklearn import linear_model, model_selection # импортируем линейную модель для обучения и библиотеку для разделения нашей выборки\n",
    "X = np.random.randint(100,size=(500, 1)) # создаем вектор признаков, вектора так как у нас один признак \n",
    "y = np.random.normal(np.random.randint(300,360,size=(500, 1))-X) # создаем вектор ответом  \n",
    "plt.scatter(X, y) # рисуем график точек\n",
    "plt.xlabel('Расстояние до кафе в метрах') # добавляем описание для оси x\n",
    "plt.ylabel('Количество заказов')# добавляем описание для оси y\n",
    "plt.show()"
   ]
  },
  {
   "cell_type": "code",
   "execution_count": 26,
   "metadata": {},
   "outputs": [],
   "source": [
    "# Делим созданную нами выборку на тестовую и обучающую\n",
    "X_train, X_test, y_train, y_test = model_selection.train_test_split(X, y) "
   ]
  },
  {
   "cell_type": "markdown",
   "metadata": {},
   "source": [
    "Давайте посмотрим какие параметры принимает **LinearRegression**.\n",
    "\n",
    "**fit_intercept** - подбирать ли значения для свободного член $w_0$. `True` или `False`. Если ваши данные центрированны, то можете указать  False. **По умолчанию** - `True`<br/>\n",
    "**normalize**- нормализация данных перед обучением. Если **fit_intercept=False** то параметр будет проигнорирован. Если `True` - то данные перед обучением будут нормализованы при помощи L^2-Norm нормализации. **По умолчанию -** `False`<br/>\n",
    "**copy_X** - `True` - копировать матрицу признаков. `False` - не копировать. **По умолчанию - **`True`<br/>\n",
    "**n_jobs** - количество ядер используемых для сборки. Скорость будет существенно выше n_targets>1. **По умолчанию -** `None`<br/>\n",
    "\n",
    "\n",
    "Параметры которые можно у модели:\n",
    "\n",
    "**coef_** - коэффициенты $w$, количество возвращаемых коэффициентов зависит от количества признаков. смотри пункт Описание линейной модели\n",
    "\n",
    "**intercept_** - свободный член $w_0$\n",
    "\n",
    "\n",
    "Что бы предсказать значения необходимо вызвать функцию:\n",
    "**predict** и передать массив из признаков. \n",
    "\n",
    "Example: `regr.predict([[40]])`"
   ]
  },
  {
   "cell_type": "code",
   "execution_count": 27,
   "metadata": {},
   "outputs": [
    {
     "data": {
      "text/plain": [
       "LinearRegression(copy_X=True, fit_intercept=True, n_jobs=1, normalize=False)"
      ]
     },
     "execution_count": 27,
     "metadata": {},
     "output_type": "execute_result"
    }
   ],
   "source": [
    "regr = linear_model.LinearRegression() # создаем линейную регрессию \n",
    "#Обучаем модель\n",
    "regr.fit(X_train, y_train)"
   ]
  },
  {
   "cell_type": "markdown",
   "metadata": {},
   "source": [
    "После выполнения кода, вам вернется ответ с установленными параметрами\n",
    "\n",
    "`LinearRegression(copy_X=True, fit_intercept=True, n_jobs=1, normalize=False)`"
   ]
  },
  {
   "cell_type": "code",
   "execution_count": 4,
   "metadata": {
    "scrolled": false
   },
   "outputs": [
    {
     "name": "stdout",
     "output_type": "stream",
     "text": [
      "Коэфициент: \n",
      " [[-1.03950324]]\n",
      "Средний квадрат ошибки: 325.63\n",
      "Оценка дисперсии:: 0.70\n"
     ]
    }
   ],
   "source": [
    "# Посмотрим какие коэффициенты установила модель\n",
    "print('Коэфициент: \\n', regr.coef_)\n",
    "# Средний квадрат ошибки\n",
    "print(\"Средний квадрат ошибки: %.2f\"\n",
    "      % np.mean((regr.predict(X_test) - y_test) ** 2))\n",
    "# Оценка дисперсии: 1 - идеальное предсказание. Качество предсказания.\n",
    "print('Оценка дисперсии:: %.2f' % regr.score(X_test, y_test))"
   ]
  },
  {
   "cell_type": "code",
   "execution_count": 28,
   "metadata": {},
   "outputs": [
    {
     "name": "stdout",
     "output_type": "stream",
     "text": [
      "y = -1.00*x + 329.48\n"
     ]
    }
   ],
   "source": [
    "# Посмотрим на получившуюся функцию \n",
    "print (\"y = {:.2f}*x + {:.2f}\".format(regr.coef_[0][0], regr.intercept_[0]))"
   ]
  },
  {
   "cell_type": "code",
   "execution_count": 29,
   "metadata": {},
   "outputs": [
    {
     "data": {
      "image/png": "[encoded data removed]",
      "text/plain": [
       "<Figure size 432x288 with 1 Axes>"
      ]
     },
     "metadata": {},
     "output_type": "display_data"
    }
   ],
   "source": [
    "# Посмотрим, как предскажет наша модель тестовые данные.\n",
    "plt.scatter(X_test, y_test, color='black')# рисуем график точек\n",
    "plt.plot(X_test, regr.predict(X_test), color='blue') # рисуем график линейной регрессии \n",
    "plt.show() # Покажем график "
   ]
  },
  {
   "cell_type": "markdown",
   "metadata": {},
   "source": [
    "Давайте предскажем количество заказов, для нашего потенциального магазина. Скажем, что мы планируем построить магазин в 40 метрах от метро"
   ]
  },
  {
   "cell_type": "code",
   "execution_count": 7,
   "metadata": {},
   "outputs": [
    {
     "data": {
      "text/plain": [
       "array([[288.13894078]])"
      ]
     },
     "execution_count": 7,
     "metadata": {},
     "output_type": "execute_result"
    }
   ],
   "source": [
    "regr.predict([[40]]) "
   ]
  },
  {
   "cell_type": "markdown",
   "metadata": {},
   "source": [
    "290 заказов мы получим если построим магазин в 40 метрах от метро, но при этом качество предсказания всего лишь 71%, думаю не стоит доверять."
   ]
  },
  {
   "cell_type": "markdown",
   "metadata": {},
   "source": [
    "#### А что если, мы увеличим количество признаков?\n",
    "Для этого воспользуемся встроенным датасетом `make_regression` из `sklearn`.\n",
    "\n",
    "**n_features** - отвечает за количество признаков один нормальный другой избыточный<br>\n",
    "**n_informative** - отвечает за количество информативных признаков<br>\n",
    "**n_targets** - отвечает за размер ответов <br>\n",
    "**noise** - шум накладываемый на признаки<br>\n",
    "**соef** - возвращать ли коэффициенты <br>\n",
    "**random_state** - определяет генерацию случайных чисел для создания набора данных.<br>"
   ]
  },
  {
   "cell_type": "code",
   "execution_count": 30,
   "metadata": {},
   "outputs": [],
   "source": [
    "# Импортируем библиотеки для валидация, создания датасетов, и метрик качества\n",
    "from sklearn import cross_validation, datasets, metrics\n",
    "\n",
    "# Создаем датасет с избыточной информацией\n",
    "X, y, coef = datasets.make_regression(n_features = 2, n_informative = 1, n_targets = 1, \n",
    "                                              noise = 5., coef = True, random_state = 2)"
   ]
  },
  {
   "cell_type": "code",
   "execution_count": 31,
   "metadata": {},
   "outputs": [
    {
     "data": {
      "text/plain": [
       "<matplotlib.collections.PathCollection at 0x1134a6e10>"
      ]
     },
     "execution_count": 31,
     "metadata": {},
     "output_type": "execute_result"
    },
    {
     "data": {
      "image/png": "[encoded data removed]",
      "text/plain": [
       "<Figure size 432x288 with 1 Axes>"
      ]
     },
     "metadata": {},
     "output_type": "display_data"
    }
   ],
   "source": [
    "# Поскольку у нас есть два признака,для отрисовки надо их разделить на две части \n",
    "data_1, data_2 = [],[]\n",
    "for x in X:\n",
    "    data_1.append(x[0])\n",
    "    data_2.append(x[1])\n",
    "plt.scatter(data_1, y, color = 'r')\n",
    "plt.scatter(data_2, y, color = 'b')"
   ]
  },
  {
   "cell_type": "markdown",
   "metadata": {},
   "source": [
    "Можно заметить, что признак отмеченный красным цветом имеет явную линейную зависимость, а признак отмеченный синим, никакой информативность нам не дает."
   ]
  },
  {
   "cell_type": "code",
   "execution_count": 32,
   "metadata": {},
   "outputs": [],
   "source": [
    "# Разделение выборку для обучения и тестирования\n",
    "# test_size - отвечает за размер тестовой выборки\n",
    "X_train, X_test, y_train, y_test = cross_validation.train_test_split(X, y, test_size = 0.3)"
   ]
  },
  {
   "cell_type": "code",
   "execution_count": 33,
   "metadata": {},
   "outputs": [],
   "source": [
    "# Создаем линейную регрессию \n",
    "linear_regressor = linear_model.LinearRegression()\n",
    "# Тренируем ее\n",
    "linear_regressor.fit(X_train, y_train)\n",
    "# Делаем предсказания\n",
    "predictions = linear_regressor.predict(X_test)"
   ]
  },
  {
   "cell_type": "code",
   "execution_count": 34,
   "metadata": {},
   "outputs": [
    {
     "name": "stdout",
     "output_type": "stream",
     "text": [
      "[ 28.15553021  38.36241814 -24.77820218 -61.47026695  13.02656201\n",
      "  23.87701013  12.74038341 -70.11132234  27.83791274 -14.97110322\n",
      " -80.80239408  24.82763821  58.26281761 -45.27502383  10.33267887\n",
      " -48.28700118 -21.48288019 -32.71074998 -21.47606913 -15.01435792\n",
      "  78.24817537  19.66406455   5.86887774 -42.44469577 -12.0017312\n",
      "  14.76930132 -16.65927231 -13.99339669   4.45578287  22.13032804]\n"
     ]
    }
   ],
   "source": [
    "# Выводим массив для просмотра наших ответов (меток)\n",
    "print (y_test)"
   ]
  },
  {
   "cell_type": "code",
   "execution_count": 35,
   "metadata": {},
   "outputs": [
    {
     "name": "stdout",
     "output_type": "stream",
     "text": [
      "[ 22.32670386  40.26305989 -27.69502682 -56.5548183   18.47241345\n",
      "  31.86585663   6.08896992 -66.15105402  22.99937016 -12.65174022\n",
      " -78.50894588  30.90311195  56.21877707 -47.81097232   8.98196478\n",
      " -56.41188567 -24.46096716 -43.55445698 -17.99670898  -9.09225523\n",
      "  65.49657633  26.50900527   4.74114126 -39.28939851  -6.80665816\n",
      "   8.30372903 -15.27594937 -15.15598987   8.34469779  19.45159738]\n"
     ]
    }
   ],
   "source": [
    "# Смотрим и сравниваем предсказания\n",
    "print (predictions)"
   ]
  },
  {
   "cell_type": "code",
   "execution_count": 36,
   "metadata": {},
   "outputs": [
    {
     "data": {
      "text/plain": [
       "4.568919119945587"
      ]
     },
     "execution_count": 36,
     "metadata": {},
     "output_type": "execute_result"
    }
   ],
   "source": [
    "# Средняя ошибка предсказания \n",
    "metrics.mean_absolute_error(y_test, predictions)"
   ]
  },
  {
   "cell_type": "markdown",
   "metadata": {},
   "source": [
    "Для валидации можем выполнить перекрестную проверкую `cross_val_score`.\n",
    "http://scikit-learn.org/stable/modules/generated/sklearn.model_selection.cross_val_score.html\n",
    "\n",
    "Передадим, нашу линейную модель, признаки, ответы, количество разделений кросс-валидация "
   ]
  },
  {
   "cell_type": "code",
   "execution_count": 37,
   "metadata": {},
   "outputs": [
    {
     "name": "stdout",
     "output_type": "stream",
     "text": [
      "Средняя ошибка: 0.9792410447209384, Отклонение: 0.020331171766276405\n"
     ]
    }
   ],
   "source": [
    "linear_scoring = cross_validation.cross_val_score(linear_regressor, X, y, cv=10)\n",
    "print ('Средняя ошибка: {}, Отклонение: {}'.format(linear_scoring.mean(), linear_scoring.std()))"
   ]
  },
  {
   "cell_type": "code",
   "execution_count": 38,
   "metadata": {},
   "outputs": [],
   "source": [
    "# Создаем свое тестирование на основе абсолютной средней ошибкой\n",
    "scorer = metrics.make_scorer(metrics.mean_absolute_error)"
   ]
  },
  {
   "cell_type": "code",
   "execution_count": 39,
   "metadata": {},
   "outputs": [
    {
     "name": "stdout",
     "output_type": "stream",
     "text": [
      "Средняя ошибка: 4.0700714987797, Отклонение: 1.0737104492890193\n"
     ]
    }
   ],
   "source": [
    "linear_scoring = cross_validation.cross_val_score(linear_regressor, X, y, scoring=scorer, cv=10)\n",
    "print ('Средняя ошибка: {}, Отклонение: {}'.format(linear_scoring.mean(), linear_scoring.std()))"
   ]
  },
  {
   "cell_type": "code",
   "execution_count": 40,
   "metadata": {},
   "outputs": [
    {
     "data": {
      "text/plain": [
       "array([38.07925837,  0.        ])"
      ]
     },
     "execution_count": 40,
     "metadata": {},
     "output_type": "execute_result"
    }
   ],
   "source": [
    "# Коэффициенты который дал обучающий датасет\n",
    "coef"
   ]
  },
  {
   "cell_type": "code",
   "execution_count": 41,
   "metadata": {},
   "outputs": [
    {
     "data": {
      "text/plain": [
       "array([38.18191713,  0.81751244])"
      ]
     },
     "execution_count": 41,
     "metadata": {},
     "output_type": "execute_result"
    }
   ],
   "source": [
    "# Коэффициент полученный при обучении\n",
    "linear_regressor.coef_"
   ]
  },
  {
   "cell_type": "code",
   "execution_count": 42,
   "metadata": {},
   "outputs": [
    {
     "data": {
      "text/plain": [
       "-0.6433147737798083"
      ]
     },
     "execution_count": 42,
     "metadata": {},
     "output_type": "execute_result"
    }
   ],
   "source": [
    "# обученная модель так же дает свободный член\n",
    "linear_regressor.intercept_"
   ]
  },
  {
   "cell_type": "code",
   "execution_count": 21,
   "metadata": {},
   "outputs": [
    {
     "name": "stdout",
     "output_type": "stream",
     "text": [
      "y = 38.08*x1 + 0.00*x2\n"
     ]
    }
   ],
   "source": [
    "print (\"y = {:.2f}*x1 + {:.2f}*x2\".format(coef[0], coef[1]))"
   ]
  },
  {
   "cell_type": "code",
   "execution_count": 22,
   "metadata": {},
   "outputs": [
    {
     "name": "stdout",
     "output_type": "stream",
     "text": [
      "y = 37.76*x1 + 0.17*x2 + -0.86\n"
     ]
    }
   ],
   "source": [
    "print (\"y = {:.2f}*x1 + {:.2f}*x2 + {:.2f}\".format(linear_regressor.coef_[0], \n",
    "                                                  linear_regressor.coef_[1], \n",
    "                                                  linear_regressor.intercept_))"
   ]
  },
  {
   "cell_type": "code",
   "execution_count": 43,
   "metadata": {},
   "outputs": [
    {
     "name": "stdout",
     "output_type": "stream",
     "text": [
      "Оценка дисперсии:: 0.98\n"
     ]
    }
   ],
   "source": [
    "# Посмотрим качество обучения\n",
    "print('Оценка дисперсии:: %.2f' % linear_regressor.score(X_test, y_test))"
   ]
  },
  {
   "cell_type": "markdown",
   "metadata": {},
   "source": [
    "# Домашнее задание"
   ]
  },
  {
   "cell_type": "markdown",
   "metadata": {},
   "source": [
    "Вы уже знаете как создать модель линейной регрессии, можете создать датасет.\n",
    "Давайте посмотрим как влияет количество признаков на качество обучения линейной модели.\n",
    "\n",
    "Скачайте этот файл, можете редактировать этот ноутбук, да бы уменьшить/увеличить количество признаков.\n",
    "\n",
    "Будут вопросы пишите нам в [Slack](https://lambdamai.slack.com/) канал **#machine_learning**"
   ]
  }
 ],
 "metadata": {
  "kernelspec": {
   "display_name": "Python 3",
   "language": "python",
   "name": "python3"
  },
  "language_info": {
   "codemirror_mode": {
    "name": "ipython",
    "version": 3
   },
   "file_extension": ".py",
   "mimetype": "text/x-python",
   "name": "python",
   "nbconvert_exporter": "python",
   "pygments_lexer": "ipython3",
   "version": "3.6.5"
  }
 },
 "nbformat": 4,
 "nbformat_minor": 2
}
