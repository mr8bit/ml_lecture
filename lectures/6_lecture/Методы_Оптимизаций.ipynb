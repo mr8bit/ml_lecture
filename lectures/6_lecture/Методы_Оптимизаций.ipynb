{
 "cells": [
  {
   "cell_type": "code",
   "execution_count": 32,
   "metadata": {},
   "outputs": [],
   "source": [
    "import time\n",
    "import random\n",
    "import math\n",
    "people = [('Seymour','BOS'),\n",
    "          ('Franny','DAL'),\n",
    "          ('Zooey','CAK'),\n",
    "          ('Walt','MIA'),\n",
    "          ('Buddy','ORD'),\n",
    "          ('Les','OMA')]\n",
    "\n",
    "# Место назначения – аэропорт Ла Гардиа в Нью-Йорке\n",
    "destination='LGA'"
   ]
  },
  {
   "cell_type": "code",
   "execution_count": 33,
   "metadata": {},
   "outputs": [],
   "source": [
    "flights={}\n",
    "\"\"\"\n",
    "Для каждого рейса в файле через запятую указаны аэропорт отправления,\n",
    "аэропорт назначения, время отправления, время прибытия и цена билета:\n",
    "\"\"\"\n",
    "for line in open('data/schedule.txt'):\n",
    "    origin,dest,depart,arrive,price=line.strip().split(',')\n",
    "    flights.setdefault((origin,dest),[])\n",
    "    # Добавить информацию о возможном рейсе в список\n",
    "    flights[(origin,dest)].append((depart,arrive,int(price)))\n"
   ]
  },
  {
   "cell_type": "code",
   "execution_count": 34,
   "metadata": {},
   "outputs": [],
   "source": [
    "def getminutes(t):\n",
    "    x=time.strptime(t,'%H:%M')\n",
    "    return x[3]*60+x[4]"
   ]
  },
  {
   "cell_type": "code",
   "execution_count": 35,
   "metadata": {},
   "outputs": [],
   "source": [
    "def printschedule(r):\n",
    "    for d in range(int(len(r)/2)):\n",
    "        name=people[d][0]\n",
    "        origin=people[d][1]\n",
    "        out=flights[(origin,destination)][r[d]]\n",
    "        ret=flights[(destination,origin)][r[d+1]]\n",
    "        print ('{0} {1} {2}-{3} ${4} | {5}-{6} ${7}'.format(name,origin,\n",
    "                                                     out[0],out[1],out[2],\n",
    "                                                     ret[0],ret[1],ret[2]))"
   ]
  },
  {
   "cell_type": "code",
   "execution_count": 36,
   "metadata": {},
   "outputs": [
    {
     "name": "stdout",
     "output_type": "stream",
     "text": [
      "Seymour BOS 8:04-10:11 $95 | 12:08-14:05 $142\n",
      "Franny DAL 12:19-15:25 $342 | 10:51-14:16 $256\n",
      "Zooey CAK 10:53-13:36 $189 | 9:58-12:56 $249\n",
      "Walt MIA 9:15-12:29 $225 | 16:50-19:26 $304\n",
      "Buddy ORD 16:43-19:00 $246 | 10:33-13:11 $132\n",
      "Les OMA 11:08-13:07 $175 | 15:07-17:21 $129\n"
     ]
    }
   ],
   "source": [
    "s=[1,4,3,2,7,3,6,3,2,4,5,3]\n",
    "printschedule(s)"
   ]
  },
  {
   "cell_type": "code",
   "execution_count": 37,
   "metadata": {},
   "outputs": [],
   "source": [
    "def schedulecost(sol):\n",
    "    totalprice=0\n",
    "    latestarrival=0\n",
    "    earliestdep=24*60\n",
    "\n",
    "    for d in range(int(len(sol)/2)):\n",
    "        # Get the inbound and outbound flights\n",
    "        origin=people[d][1]\n",
    "        outbound=flights[(origin,destination)][int(sol[d])]\n",
    "        returnf=flights[(destination,origin)][int(sol[d+1])]\n",
    "    \n",
    "        # Total price is the price of all outbound and return flights\n",
    "        totalprice+=outbound[2]\n",
    "        totalprice+=returnf[2]\n",
    "    \n",
    "        # Track the latest arrival and earliest departure\n",
    "        if latestarrival<getminutes(outbound[1]): latestarrival=getminutes(outbound[1])\n",
    "        if earliestdep>getminutes(returnf[0]): earliestdep=getminutes(returnf[0])\n",
    "      \n",
    "      # Every person must wait at the airport until the latest person arrives.\n",
    "      # They also must arrive at the same time and wait for their flights.\n",
    "        totalwait=0  \n",
    "    for d in range(int(len(sol)/2)):\n",
    "        origin=people[d][1]\n",
    "        outbound=flights[(origin,destination)][int(sol[d])]\n",
    "        returnf=flights[(destination,origin)][int(sol[d+1])]\n",
    "        totalwait+=latestarrival-getminutes(outbound[1])\n",
    "        totalwait+=getminutes(returnf[0])-earliestdep  \n",
    "\n",
    "        # Для этого решения требуется оплачивать дополнительный день аренды?\n",
    "        # Если да, это обойдется в лишние $50!\n",
    "        if latestarrival>earliestdep: totalprice+=50\n",
    "        return int(totalprice+totalwait)"
   ]
  },
  {
   "cell_type": "code",
   "execution_count": 38,
   "metadata": {},
   "outputs": [
    {
     "data": {
      "text/plain": [
       "3193"
      ]
     },
     "execution_count": 38,
     "metadata": {},
     "output_type": "execute_result"
    }
   ],
   "source": [
    "schedulecost(s)"
   ]
  },
  {
   "cell_type": "code",
   "execution_count": 39,
   "metadata": {},
   "outputs": [],
   "source": [
    "def randomoptimize(domain,costf):\n",
    "    best=999999999\n",
    "    bestr=None\n",
    "    for i in range(0,1000):\n",
    "        # Create a random solution\n",
    "        r=[int(random.randint(domain[i][0],domain[i][1]))\n",
    "        for i in range(len(domain))]\n",
    "        # Get the cost\n",
    "        cost=costf(r)\n",
    "        # Compare it to the best one so far\n",
    "        if cost<best:\n",
    "            best=cost\n",
    "        bestr=r\n",
    "    return r"
   ]
  },
  {
   "cell_type": "code",
   "execution_count": 40,
   "metadata": {},
   "outputs": [],
   "source": [
    "domain=[(0,8)]*(len(people)*2)"
   ]
  },
  {
   "cell_type": "code",
   "execution_count": 41,
   "metadata": {},
   "outputs": [],
   "source": [
    " s=randomoptimize(domain,schedulecost)"
   ]
  },
  {
   "cell_type": "code",
   "execution_count": 42,
   "metadata": {},
   "outputs": [
    {
     "data": {
      "text/plain": [
       "3702"
      ]
     },
     "execution_count": 42,
     "metadata": {},
     "output_type": "execute_result"
    }
   ],
   "source": [
    "schedulecost(s)"
   ]
  },
  {
   "cell_type": "code",
   "execution_count": 43,
   "metadata": {},
   "outputs": [
    {
     "name": "stdout",
     "output_type": "stream",
     "text": [
      "Seymour BOS 8:04-10:11 $95 | 8:23-10:28 $149\n",
      "Franny DAL 7:53-11:37 $433 | 14:20-17:32 $332\n",
      "Zooey CAK 13:40-15:38 $137 | 18:17-21:04 $259\n",
      "Walt MIA 18:23-21:35 $134 | 18:07-21:30 $355\n",
      "Buddy ORD 18:48-21:45 $246 | 6:03-8:43 $219\n",
      "Les OMA 6:11-8:31 $249 | 9:31-11:43 $210\n"
     ]
    }
   ],
   "source": [
    "printschedule(s)"
   ]
  },
  {
   "cell_type": "code",
   "execution_count": 48,
   "metadata": {},
   "outputs": [],
   "source": [
    "def hillclimb(domain,costf):\n",
    "     # Выбрать случайное решение\n",
    "     sol=[random.randint(domain[i][0],domain[i][1])\n",
    "       for i in range(len(domain))]:\n",
    "         # Главный цикл\n",
    "         while 1:\n",
    "           # Создать список соседних решений\n",
    "           neighbors=[]\n",
    "           for j in range(len(domain)):\n",
    "             # Отходим на один шаг в каждом направлении\n",
    "             if sol[j]>domain[j][0]:\n",
    "               neighbors.append(sol[0:j]+[sol[j]+1]+sol[j+1:])\n",
    "             if sol[j]<domain[j][1]:\n",
    "               neighbors.append(sol[0:j]+[sol[j]-1]+sol[j+1:])\n",
    "       # Ищем наилучшее из соседних решений\n",
    "        current=costf(sol)\n",
    "           best=current\n",
    "       for j in range(len(neighbors)):\n",
    "         cost=costf(neighbors[j])\n",
    "         if cost<best:\n",
    "           best=cost\n",
    "           sol=neighbors[j]\n",
    "       # Если улучшения нет, мы достигли дна\n",
    "       if best==current:\n",
    "         break\n",
    "     return sol"
   ]
  },
  {
   "cell_type": "code",
   "execution_count": 49,
   "metadata": {},
   "outputs": [
    {
     "ename": "IndexError",
     "evalue": "list index out of range",
     "output_type": "error",
     "traceback": [
      "\u001b[0;31m---------------------------------------------------------------------------\u001b[0m",
      "\u001b[0;31mIndexError\u001b[0m                                Traceback (most recent call last)",
      "\u001b[0;32m<ipython-input-49-967bad3e4aa3>\u001b[0m in \u001b[0;36m<module>\u001b[0;34m\u001b[0m\n\u001b[1;32m      2\u001b[0m \u001b[0mdomain\u001b[0m\u001b[0;34m=\u001b[0m\u001b[0;34m[\u001b[0m\u001b[0;34m(\u001b[0m\u001b[0;36m0\u001b[0m\u001b[0;34m,\u001b[0m\u001b[0;36m8\u001b[0m\u001b[0;34m)\u001b[0m\u001b[0;34m]\u001b[0m\u001b[0;34m*\u001b[0m\u001b[0;34m(\u001b[0m\u001b[0mlen\u001b[0m\u001b[0;34m(\u001b[0m\u001b[0mpeople\u001b[0m\u001b[0;34m)\u001b[0m\u001b[0;34m*\u001b[0m\u001b[0;36m2\u001b[0m\u001b[0;34m)\u001b[0m\u001b[0;34m\u001b[0m\u001b[0;34m\u001b[0m\u001b[0m\n\u001b[1;32m      3\u001b[0m \u001b[0ms\u001b[0m\u001b[0;34m=\u001b[0m\u001b[0;34m[\u001b[0m\u001b[0;36m1\u001b[0m\u001b[0;34m,\u001b[0m\u001b[0;36m4\u001b[0m\u001b[0;34m,\u001b[0m\u001b[0;36m3\u001b[0m\u001b[0;34m,\u001b[0m\u001b[0;36m2\u001b[0m\u001b[0;34m,\u001b[0m\u001b[0;36m7\u001b[0m\u001b[0;34m,\u001b[0m\u001b[0;36m3\u001b[0m\u001b[0;34m,\u001b[0m\u001b[0;36m6\u001b[0m\u001b[0;34m,\u001b[0m\u001b[0;36m3\u001b[0m\u001b[0;34m,\u001b[0m\u001b[0;36m2\u001b[0m\u001b[0;34m,\u001b[0m\u001b[0;36m4\u001b[0m\u001b[0;34m,\u001b[0m\u001b[0;36m5\u001b[0m\u001b[0;34m,\u001b[0m\u001b[0;36m3\u001b[0m\u001b[0;34m]\u001b[0m\u001b[0;34m\u001b[0m\u001b[0;34m\u001b[0m\u001b[0m\n\u001b[0;32m----> 4\u001b[0;31m \u001b[0ms\u001b[0m\u001b[0;34m=\u001b[0m\u001b[0mhillclimb\u001b[0m\u001b[0;34m(\u001b[0m\u001b[0mdomain\u001b[0m\u001b[0;34m,\u001b[0m\u001b[0mschedulecost\u001b[0m\u001b[0;34m)\u001b[0m\u001b[0;34m\u001b[0m\u001b[0;34m\u001b[0m\u001b[0m\n\u001b[0m",
      "\u001b[0;32m<ipython-input-48-c70f02160bbe>\u001b[0m in \u001b[0;36mhillclimb\u001b[0;34m(domain, costf)\u001b[0m\n\u001b[1;32m     17\u001b[0m        \u001b[0mbest\u001b[0m\u001b[0;34m=\u001b[0m\u001b[0mcurrent\u001b[0m\u001b[0;34m\u001b[0m\u001b[0;34m\u001b[0m\u001b[0m\n\u001b[1;32m     18\u001b[0m        \u001b[0;32mfor\u001b[0m \u001b[0mj\u001b[0m \u001b[0;32min\u001b[0m \u001b[0mrange\u001b[0m\u001b[0;34m(\u001b[0m\u001b[0mlen\u001b[0m\u001b[0;34m(\u001b[0m\u001b[0mneighbors\u001b[0m\u001b[0;34m)\u001b[0m\u001b[0;34m)\u001b[0m\u001b[0;34m:\u001b[0m\u001b[0;34m\u001b[0m\u001b[0;34m\u001b[0m\u001b[0m\n\u001b[0;32m---> 19\u001b[0;31m          \u001b[0mcost\u001b[0m\u001b[0;34m=\u001b[0m\u001b[0mcostf\u001b[0m\u001b[0;34m(\u001b[0m\u001b[0mneighbors\u001b[0m\u001b[0;34m[\u001b[0m\u001b[0mj\u001b[0m\u001b[0;34m]\u001b[0m\u001b[0;34m)\u001b[0m\u001b[0;34m\u001b[0m\u001b[0;34m\u001b[0m\u001b[0m\n\u001b[0m\u001b[1;32m     20\u001b[0m          \u001b[0;32mif\u001b[0m \u001b[0mcost\u001b[0m\u001b[0;34m<\u001b[0m\u001b[0mbest\u001b[0m\u001b[0;34m:\u001b[0m\u001b[0;34m\u001b[0m\u001b[0;34m\u001b[0m\u001b[0m\n\u001b[1;32m     21\u001b[0m            \u001b[0mbest\u001b[0m\u001b[0;34m=\u001b[0m\u001b[0mcost\u001b[0m\u001b[0;34m\u001b[0m\u001b[0;34m\u001b[0m\u001b[0m\n",
      "\u001b[0;32m<ipython-input-37-afe0f2775992>\u001b[0m in \u001b[0;36mschedulecost\u001b[0;34m(sol)\u001b[0m\n\u001b[1;32m      8\u001b[0m         \u001b[0morigin\u001b[0m\u001b[0;34m=\u001b[0m\u001b[0mpeople\u001b[0m\u001b[0;34m[\u001b[0m\u001b[0md\u001b[0m\u001b[0;34m]\u001b[0m\u001b[0;34m[\u001b[0m\u001b[0;36m1\u001b[0m\u001b[0;34m]\u001b[0m\u001b[0;34m\u001b[0m\u001b[0;34m\u001b[0m\u001b[0m\n\u001b[1;32m      9\u001b[0m         \u001b[0moutbound\u001b[0m\u001b[0;34m=\u001b[0m\u001b[0mflights\u001b[0m\u001b[0;34m[\u001b[0m\u001b[0;34m(\u001b[0m\u001b[0morigin\u001b[0m\u001b[0;34m,\u001b[0m\u001b[0mdestination\u001b[0m\u001b[0;34m)\u001b[0m\u001b[0;34m]\u001b[0m\u001b[0;34m[\u001b[0m\u001b[0mint\u001b[0m\u001b[0;34m(\u001b[0m\u001b[0msol\u001b[0m\u001b[0;34m[\u001b[0m\u001b[0md\u001b[0m\u001b[0;34m]\u001b[0m\u001b[0;34m)\u001b[0m\u001b[0;34m]\u001b[0m\u001b[0;34m\u001b[0m\u001b[0;34m\u001b[0m\u001b[0m\n\u001b[0;32m---> 10\u001b[0;31m         \u001b[0mreturnf\u001b[0m\u001b[0;34m=\u001b[0m\u001b[0mflights\u001b[0m\u001b[0;34m[\u001b[0m\u001b[0;34m(\u001b[0m\u001b[0mdestination\u001b[0m\u001b[0;34m,\u001b[0m\u001b[0morigin\u001b[0m\u001b[0;34m)\u001b[0m\u001b[0;34m]\u001b[0m\u001b[0;34m[\u001b[0m\u001b[0mint\u001b[0m\u001b[0;34m(\u001b[0m\u001b[0msol\u001b[0m\u001b[0;34m[\u001b[0m\u001b[0md\u001b[0m\u001b[0;34m+\u001b[0m\u001b[0;36m1\u001b[0m\u001b[0;34m]\u001b[0m\u001b[0;34m)\u001b[0m\u001b[0;34m]\u001b[0m\u001b[0;34m\u001b[0m\u001b[0;34m\u001b[0m\u001b[0m\n\u001b[0m\u001b[1;32m     11\u001b[0m \u001b[0;34m\u001b[0m\u001b[0m\n\u001b[1;32m     12\u001b[0m         \u001b[0;31m# Total price is the price of all outbound and return flights\u001b[0m\u001b[0;34m\u001b[0m\u001b[0;34m\u001b[0m\u001b[0;34m\u001b[0m\u001b[0m\n",
      "\u001b[0;31mIndexError\u001b[0m: list index out of range"
     ]
    }
   ],
   "source": [
    "schedulecost(s)\n",
    "domain=[(0,8)]*(len(people)*2)\n",
    "s=[1,4,3,2,7,3,6,3,2,4,5,3]\n",
    "s=hillclimb(domain,schedulecost)"
   ]
  },
  {
   "cell_type": "code",
   "execution_count": 17,
   "metadata": {},
   "outputs": [
    {
     "data": {
      "text/plain": [
       "2811"
      ]
     },
     "execution_count": 17,
     "metadata": {},
     "output_type": "execute_result"
    }
   ],
   "source": [
    "schedulecost(s)"
   ]
  },
  {
   "cell_type": "code",
   "execution_count": 18,
   "metadata": {},
   "outputs": [
    {
     "name": "stdout",
     "output_type": "stream",
     "text": [
      "Seymour BOS 17:11-18:30 $108 | 10:33-12:03 $74\n",
      "Franny DAL 10:30-14:57 $290 | 6:09-9:49 $414\n",
      "Zooey CAK 6:08-8:06 $224 | 13:37-15:33 $142\n",
      "Walt MIA 14:01-17:24 $338 | 12:37-15:05 $170\n",
      "Buddy ORD 12:44-14:17 $134 | 6:03-8:43 $219\n",
      "Les OMA 6:11-8:31 $249 | 15:07-17:21 $129\n"
     ]
    }
   ],
   "source": [
    "printschedule(s)"
   ]
  },
  {
   "cell_type": "code",
   "execution_count": 19,
   "metadata": {},
   "outputs": [],
   "source": [
    "def annealingoptimize(domain,costf,T=10000.0,cool=0.95,step=1):\n",
    "  # Инициализировать переменные случайным образом\n",
    "  vec=[int(random.randint(domain[i][0],domain[i][1])) \n",
    "       for i in range(len(domain))]\n",
    "  \n",
    "  while T>0.1:\n",
    "    # Выбрать один из индексов\n",
    "    i=random.randint(0,len(domain)-1)\n",
    "\n",
    "    # Выбрать направление изменения\n",
    "    dir=random.randint(-step,step)\n",
    "\n",
    "    # Создать новый список, в котором одно значение изменено\n",
    "    vecb=vec[:]\n",
    "    vecb[i]+=dir\n",
    "    if vecb[i]<domain[i][0]: vecb[i]=domain[i][0]\n",
    "    elif vecb[i]>domain[i][1]: vecb[i]=domain[i][1]\n",
    "\n",
    "    # Вычислить текущую и новую стоимость\n",
    "    ea=costf(vec)\n",
    "    eb=costf(vecb)\n",
    "    p=pow(math.e,(-eb-ea)/T)\n",
    "\n",
    "    print (vec,ea)\n",
    "\n",
    "\n",
    "    # Новое решение лучше? Если нет, метнем кости\n",
    "    if (eb<ea or random.random()<p):\n",
    "      vec=vecb      \n",
    "\n",
    "    # Уменьшить температуру\n",
    "    T=T*cool\n",
    "  return vec\n"
   ]
  },
  {
   "cell_type": "code",
   "execution_count": 20,
   "metadata": {},
   "outputs": [
    {
     "name": "stdout",
     "output_type": "stream",
     "text": [
      "[1, 7, 3, 6, 8, 5, 1, 4, 7, 5, 4, 0] 4120\n",
      "[1, 7, 3, 6, 8, 5, 1, 4, 7, 5, 4, 0] 4120\n",
      "[1, 7, 3, 6, 8, 5, 1, 4, 7, 5, 4, 0] 4120\n",
      "[1, 7, 3, 6, 8, 5, 2, 4, 7, 5, 4, 0] 4107\n",
      "[1, 7, 3, 6, 8, 5, 2, 4, 7, 5, 4, 0] 4107\n",
      "[1, 7, 3, 6, 8, 5, 2, 4, 6, 5, 4, 0] 4107\n",
      "[1, 7, 3, 6, 8, 5, 2, 4, 6, 5, 4, 0] 4107\n",
      "[1, 7, 3, 6, 8, 5, 3, 4, 6, 5, 4, 0] 3988\n",
      "[0, 7, 3, 6, 8, 5, 3, 4, 6, 5, 4, 0] 4087\n",
      "[0, 7, 3, 6, 8, 5, 4, 4, 6, 5, 4, 0] 4150\n",
      "[0, 7, 3, 6, 8, 6, 4, 4, 6, 5, 4, 0] 4034\n",
      "[0, 7, 3, 6, 8, 6, 4, 4, 6, 5, 4, 0] 4034\n",
      "[0, 7, 3, 6, 8, 6, 4, 4, 6, 5, 4, 0] 4034\n",
      "[0, 7, 3, 6, 8, 6, 4, 4, 6, 5, 4, 0] 4034\n",
      "[0, 7, 3, 6, 8, 6, 4, 4, 6, 5, 4, 0] 4034\n",
      "[0, 7, 3, 6, 8, 6, 4, 4, 6, 5, 4, 0] 4034\n",
      "[0, 7, 3, 6, 8, 5, 4, 4, 6, 5, 4, 0] 4150\n",
      "[0, 7, 3, 6, 8, 5, 4, 4, 6, 5, 4, 0] 4150\n",
      "[0, 7, 3, 6, 8, 5, 4, 4, 6, 5, 4, 0] 4150\n",
      "[0, 7, 3, 6, 8, 5, 4, 4, 6, 5, 4, 0] 4150\n",
      "[0, 7, 3, 6, 8, 5, 4, 4, 6, 5, 4, 0] 4150\n",
      "[0, 7, 3, 6, 8, 5, 4, 4, 6, 5, 4, 0] 4150\n",
      "[0, 7, 3, 6, 7, 5, 4, 4, 6, 5, 4, 0] 4042\n",
      "[0, 7, 3, 6, 7, 5, 4, 4, 6, 5, 4, 0] 4042\n",
      "[0, 7, 3, 6, 7, 5, 4, 4, 6, 5, 4, 0] 4042\n",
      "[0, 7, 3, 6, 7, 6, 4, 4, 6, 5, 4, 0] 3926\n",
      "[0, 7, 3, 6, 7, 6, 4, 4, 6, 5, 4, 0] 3926\n",
      "[0, 7, 3, 6, 7, 6, 4, 4, 6, 5, 4, 0] 3926\n",
      "[0, 7, 3, 6, 7, 6, 4, 4, 6, 5, 4, 0] 3926\n",
      "[0, 7, 3, 6, 7, 6, 4, 4, 6, 5, 4, 0] 3926\n",
      "[0, 7, 3, 6, 7, 6, 4, 4, 6, 5, 4, 0] 3926\n",
      "[0, 6, 3, 6, 7, 6, 4, 4, 6, 5, 4, 0] 3613\n",
      "[0, 6, 3, 6, 7, 6, 3, 4, 6, 5, 4, 0] 3550\n",
      "[0, 6, 3, 6, 6, 6, 3, 4, 6, 5, 4, 0] 3318\n",
      "[0, 6, 3, 6, 6, 6, 3, 4, 6, 5, 4, 0] 3318\n",
      "[0, 6, 3, 6, 6, 6, 3, 4, 6, 5, 4, 0] 3318\n",
      "[0, 6, 3, 6, 6, 6, 3, 4, 6, 5, 4, 0] 3318\n",
      "[0, 6, 3, 6, 6, 6, 3, 4, 6, 5, 4, 0] 3318\n",
      "[0, 6, 3, 6, 6, 6, 3, 4, 6, 5, 4, 0] 3318\n",
      "[1, 6, 3, 6, 6, 6, 3, 4, 6, 5, 4, 0] 3219\n",
      "[1, 6, 3, 6, 6, 6, 3, 4, 6, 5, 4, 0] 3219\n",
      "[1, 6, 3, 6, 6, 6, 3, 4, 6, 5, 4, 0] 3219\n",
      "[1, 6, 3, 6, 6, 6, 3, 4, 6, 5, 4, 0] 3219\n",
      "[1, 6, 3, 6, 6, 6, 3, 4, 6, 5, 4, 0] 3219\n",
      "[1, 6, 3, 6, 6, 6, 3, 4, 6, 5, 4, 0] 3219\n",
      "[1, 6, 3, 6, 6, 6, 3, 4, 6, 5, 4, 0] 3219\n",
      "[1, 6, 3, 6, 6, 6, 3, 4, 6, 5, 4, 0] 3219\n",
      "[1, 6, 3, 6, 6, 6, 3, 4, 6, 5, 4, 0] 3219\n",
      "[1, 6, 3, 6, 6, 6, 3, 4, 6, 5, 4, 0] 3219\n",
      "[1, 6, 3, 6, 6, 6, 3, 4, 6, 5, 4, 0] 3219\n",
      "[1, 6, 3, 6, 6, 6, 3, 4, 6, 5, 4, 0] 3219\n",
      "[1, 6, 3, 6, 6, 6, 3, 4, 6, 5, 4, 0] 3219\n",
      "[1, 6, 3, 6, 6, 6, 3, 4, 6, 5, 4, 0] 3219\n",
      "[1, 6, 3, 6, 6, 6, 3, 4, 6, 5, 4, 0] 3219\n",
      "[1, 6, 3, 6, 6, 6, 3, 4, 6, 5, 4, 0] 3219\n",
      "[1, 6, 3, 6, 6, 6, 3, 4, 6, 5, 4, 0] 3219\n",
      "[1, 6, 3, 6, 6, 6, 3, 4, 6, 5, 4, 0] 3219\n",
      "[1, 6, 3, 6, 6, 6, 3, 4, 6, 5, 4, 0] 3219\n",
      "[1, 6, 3, 6, 6, 7, 3, 4, 6, 5, 4, 0] 3151\n",
      "[1, 6, 3, 6, 6, 7, 3, 4, 6, 5, 4, 0] 3151\n",
      "[1, 6, 3, 6, 6, 7, 3, 4, 6, 5, 4, 0] 3151\n",
      "[1, 6, 3, 6, 6, 7, 3, 4, 6, 5, 4, 0] 3151\n",
      "[1, 5, 3, 6, 6, 7, 3, 4, 6, 5, 4, 0] 2969\n",
      "[1, 5, 3, 6, 6, 7, 3, 4, 6, 5, 4, 0] 2969\n",
      "[1, 5, 3, 6, 6, 7, 3, 4, 6, 5, 4, 0] 2969\n",
      "[1, 5, 3, 6, 6, 7, 3, 4, 6, 5, 4, 0] 2969\n",
      "[1, 5, 3, 6, 6, 7, 3, 4, 6, 5, 4, 0] 2969\n",
      "[1, 5, 3, 6, 6, 7, 3, 4, 6, 5, 4, 0] 2969\n",
      "[1, 5, 3, 6, 6, 7, 3, 4, 6, 5, 4, 0] 2969\n",
      "[1, 5, 3, 6, 6, 7, 3, 4, 6, 5, 4, 0] 2969\n",
      "[1, 5, 3, 6, 6, 7, 3, 4, 6, 5, 4, 0] 2969\n",
      "[1, 5, 3, 5, 6, 7, 3, 4, 6, 5, 4, 0] 2880\n",
      "[1, 5, 3, 5, 6, 7, 3, 4, 6, 5, 4, 0] 2880\n",
      "[1, 5, 3, 5, 6, 7, 3, 4, 6, 5, 4, 0] 2880\n",
      "[1, 5, 3, 5, 6, 7, 3, 4, 6, 5, 4, 0] 2880\n",
      "[1, 5, 3, 5, 6, 7, 3, 4, 6, 5, 4, 0] 2880\n",
      "[1, 5, 3, 5, 6, 7, 3, 4, 6, 5, 4, 0] 2880\n",
      "[1, 5, 3, 5, 6, 7, 3, 4, 6, 5, 4, 0] 2880\n",
      "[1, 5, 3, 5, 6, 7, 3, 4, 6, 5, 4, 0] 2880\n",
      "[1, 5, 3, 5, 6, 7, 3, 4, 6, 5, 4, 0] 2880\n",
      "[1, 5, 3, 5, 6, 7, 3, 4, 6, 5, 4, 0] 2880\n",
      "[1, 5, 3, 5, 6, 7, 3, 4, 6, 5, 4, 0] 2880\n",
      "[1, 5, 3, 5, 6, 7, 3, 4, 6, 5, 4, 0] 2880\n",
      "[1, 5, 3, 5, 6, 7, 3, 4, 6, 5, 4, 0] 2880\n",
      "[1, 5, 3, 5, 6, 7, 3, 4, 6, 5, 4, 0] 2880\n",
      "[1, 5, 3, 5, 6, 7, 3, 4, 6, 5, 4, 0] 2880\n",
      "[1, 5, 3, 5, 6, 7, 3, 4, 6, 5, 4, 0] 2880\n",
      "[1, 5, 3, 5, 6, 7, 3, 4, 6, 5, 4, 0] 2880\n",
      "[1, 5, 3, 5, 6, 7, 3, 4, 6, 5, 4, 0] 2880\n",
      "[1, 5, 3, 5, 6, 7, 3, 4, 6, 5, 4, 0] 2880\n",
      "[1, 5, 3, 5, 6, 7, 3, 4, 6, 5, 4, 0] 2880\n",
      "[1, 5, 3, 5, 6, 7, 3, 4, 6, 5, 4, 0] 2880\n",
      "[1, 5, 3, 5, 6, 7, 3, 4, 6, 5, 4, 0] 2880\n",
      "[1, 5, 3, 5, 6, 7, 3, 4, 6, 5, 4, 0] 2880\n",
      "[1, 5, 3, 5, 6, 7, 3, 4, 6, 5, 4, 0] 2880\n",
      "[1, 5, 3, 5, 6, 7, 3, 4, 6, 5, 4, 0] 2880\n",
      "[1, 5, 3, 5, 6, 7, 3, 4, 6, 5, 4, 0] 2880\n",
      "[1, 5, 3, 5, 6, 7, 3, 4, 6, 5, 4, 0] 2880\n",
      "[1, 5, 3, 5, 6, 7, 3, 4, 6, 5, 4, 0] 2880\n",
      "[1, 5, 3, 5, 6, 7, 3, 4, 6, 5, 4, 0] 2880\n",
      "[1, 5, 3, 5, 6, 7, 3, 4, 6, 5, 4, 0] 2880\n",
      "[1, 5, 3, 5, 6, 7, 3, 4, 6, 5, 4, 0] 2880\n",
      "[1, 5, 3, 5, 6, 7, 3, 4, 6, 5, 4, 0] 2880\n",
      "[1, 5, 3, 5, 6, 7, 3, 4, 6, 5, 4, 0] 2880\n",
      "[1, 5, 3, 5, 6, 7, 3, 4, 6, 5, 4, 0] 2880\n",
      "[1, 5, 3, 5, 6, 7, 3, 4, 6, 5, 4, 0] 2880\n",
      "[1, 5, 3, 5, 6, 7, 3, 4, 6, 5, 4, 0] 2880\n",
      "[1, 5, 3, 5, 6, 7, 3, 4, 6, 5, 4, 0] 2880\n",
      "[1, 5, 3, 5, 6, 7, 3, 4, 6, 5, 4, 0] 2880\n",
      "[1, 5, 3, 5, 6, 7, 3, 4, 6, 5, 4, 0] 2880\n",
      "[1, 5, 3, 5, 6, 7, 3, 4, 6, 5, 4, 0] 2880\n",
      "[1, 5, 3, 5, 6, 7, 3, 4, 6, 5, 4, 0] 2880\n",
      "[1, 5, 3, 5, 6, 7, 3, 4, 6, 5, 4, 0] 2880\n",
      "[1, 5, 3, 5, 6, 7, 3, 4, 6, 5, 4, 0] 2880\n",
      "[1, 5, 3, 5, 6, 7, 3, 4, 6, 5, 4, 0] 2880\n",
      "[1, 5, 3, 5, 6, 7, 3, 4, 6, 5, 4, 0] 2880\n",
      "[1, 5, 3, 5, 6, 7, 3, 4, 6, 5, 4, 0] 2880\n",
      "[1, 5, 3, 5, 6, 7, 3, 4, 6, 5, 4, 0] 2880\n",
      "[2, 5, 3, 5, 6, 7, 3, 4, 6, 5, 4, 0] 2858\n",
      "[2, 5, 3, 5, 6, 7, 3, 4, 6, 5, 4, 0] 2858\n",
      "[2, 5, 3, 5, 6, 7, 3, 4, 6, 5, 4, 0] 2858\n",
      "[2, 5, 3, 5, 6, 7, 3, 4, 6, 5, 4, 0] 2858\n",
      "[2, 5, 3, 5, 6, 7, 3, 4, 6, 5, 4, 0] 2858\n",
      "[2, 5, 3, 5, 6, 7, 3, 4, 6, 5, 4, 0] 2858\n",
      "[2, 5, 3, 5, 6, 7, 3, 4, 6, 5, 4, 0] 2858\n",
      "[2, 5, 3, 5, 6, 7, 3, 4, 6, 5, 4, 0] 2858\n",
      "[2, 5, 3, 5, 6, 7, 3, 4, 6, 5, 4, 0] 2858\n",
      "[2, 5, 3, 5, 6, 7, 3, 4, 6, 5, 4, 0] 2858\n",
      "[2, 5, 3, 5, 6, 7, 3, 4, 6, 5, 4, 0] 2858\n",
      "[2, 5, 3, 5, 6, 7, 3, 4, 6, 5, 4, 0] 2858\n",
      "[2, 5, 3, 5, 6, 7, 3, 4, 6, 5, 4, 0] 2858\n",
      "[2, 5, 3, 5, 6, 7, 3, 4, 6, 5, 4, 0] 2858\n",
      "[2, 5, 3, 5, 6, 7, 3, 4, 6, 5, 4, 0] 2858\n",
      "[2, 5, 3, 5, 6, 7, 3, 4, 6, 5, 4, 0] 2858\n",
      "[2, 5, 3, 5, 6, 7, 3, 4, 6, 5, 4, 0] 2858\n",
      "[2, 5, 3, 5, 6, 7, 3, 4, 6, 5, 4, 0] 2858\n",
      "[2, 5, 3, 5, 6, 7, 3, 4, 6, 5, 4, 0] 2858\n",
      "[2, 5, 3, 5, 6, 7, 3, 4, 6, 5, 4, 0] 2858\n",
      "[2, 5, 3, 5, 6, 7, 3, 4, 6, 5, 4, 0] 2858\n",
      "[2, 5, 3, 5, 6, 7, 3, 4, 6, 5, 4, 0] 2858\n",
      "[2, 5, 3, 5, 6, 7, 3, 4, 6, 5, 4, 0] 2858\n",
      "[2, 5, 3, 5, 6, 7, 3, 4, 6, 5, 4, 0] 2858\n",
      "[2, 5, 3, 5, 6, 7, 3, 4, 6, 5, 4, 0] 2858\n",
      "[2, 5, 3, 5, 6, 7, 3, 4, 6, 5, 4, 0] 2858\n",
      "[2, 5, 3, 5, 6, 7, 3, 4, 6, 5, 4, 0] 2858\n",
      "[2, 5, 3, 5, 6, 7, 3, 4, 6, 5, 4, 0] 2858\n",
      "[2, 5, 3, 5, 6, 7, 3, 4, 6, 5, 4, 0] 2858\n",
      "[2, 5, 3, 5, 6, 7, 3, 4, 6, 5, 4, 0] 2858\n",
      "[2, 5, 3, 5, 6, 7, 3, 4, 6, 5, 4, 0] 2858\n",
      "[2, 5, 3, 5, 6, 7, 3, 4, 6, 5, 4, 0] 2858\n",
      "[2, 5, 3, 5, 6, 7, 3, 4, 6, 5, 4, 0] 2858\n",
      "[2, 5, 3, 5, 6, 7, 3, 4, 6, 5, 4, 0] 2858\n",
      "[2, 5, 3, 5, 6, 7, 3, 4, 6, 5, 4, 0] 2858\n",
      "[2, 5, 3, 5, 6, 7, 3, 4, 6, 5, 4, 0] 2858\n",
      "[2, 5, 3, 5, 6, 7, 3, 4, 6, 5, 4, 0] 2858\n",
      "[2, 5, 3, 5, 6, 7, 3, 4, 6, 5, 4, 0] 2858\n",
      "[2, 5, 3, 5, 6, 7, 3, 4, 6, 5, 4, 0] 2858\n",
      "[2, 5, 3, 5, 6, 7, 3, 4, 6, 5, 4, 0] 2858\n",
      "[2, 5, 3, 5, 6, 7, 3, 4, 6, 5, 4, 0] 2858\n",
      "[2, 5, 3, 5, 6, 7, 3, 4, 6, 5, 4, 0] 2858\n",
      "[2, 5, 3, 5, 6, 7, 3, 4, 6, 5, 4, 0] 2858\n",
      "[2, 5, 3, 5, 6, 7, 3, 4, 6, 5, 4, 0] 2858\n",
      "[2, 5, 3, 5, 6, 7, 3, 4, 6, 5, 4, 0] 2858\n",
      "[2, 5, 3, 5, 6, 7, 3, 4, 6, 5, 4, 0] 2858\n",
      "[2, 5, 3, 5, 6, 7, 3, 4, 6, 5, 4, 0] 2858\n",
      "[2, 5, 3, 5, 6, 7, 3, 4, 6, 5, 4, 0] 2858\n",
      "[2, 5, 3, 5, 6, 7, 3, 4, 6, 5, 4, 0] 2858\n",
      "[2, 5, 3, 5, 6, 7, 3, 4, 6, 5, 4, 0] 2858\n",
      "[2, 5, 3, 5, 6, 7, 3, 4, 6, 5, 4, 0] 2858\n",
      "[2, 5, 3, 5, 6, 7, 3, 4, 6, 5, 4, 0] 2858\n",
      "[2, 5, 3, 5, 6, 7, 3, 4, 6, 5, 4, 0] 2858\n",
      "[2, 5, 3, 5, 6, 7, 3, 4, 6, 5, 4, 0] 2858\n",
      "[2, 5, 3, 5, 6, 7, 3, 4, 6, 5, 4, 0] 2858\n",
      "[2, 5, 3, 5, 6, 7, 3, 4, 6, 5, 4, 0] 2858\n",
      "[2, 5, 3, 5, 6, 7, 3, 4, 6, 5, 4, 0] 2858\n",
      "[2, 5, 3, 5, 6, 7, 3, 4, 6, 5, 4, 0] 2858\n",
      "[2, 5, 3, 5, 6, 7, 3, 4, 6, 5, 4, 0] 2858\n",
      "[2, 5, 3, 5, 6, 7, 3, 4, 6, 5, 4, 0] 2858\n",
      "[2, 5, 3, 5, 6, 7, 3, 4, 6, 5, 4, 0] 2858\n",
      "[2, 5, 3, 5, 6, 7, 3, 4, 6, 5, 4, 0] 2858\n",
      "[2, 5, 3, 5, 6, 7, 3, 4, 6, 5, 4, 0] 2858\n",
      "[2, 5, 3, 5, 6, 7, 3, 4, 6, 5, 4, 0] 2858\n",
      "[2, 5, 3, 5, 6, 7, 3, 4, 6, 5, 4, 0] 2858\n",
      "[2, 5, 3, 5, 6, 7, 3, 4, 6, 5, 4, 0] 2858\n",
      "[2, 5, 3, 5, 6, 7, 3, 4, 6, 5, 4, 0] 2858\n",
      "[2, 5, 3, 5, 6, 7, 3, 4, 6, 5, 4, 0] 2858\n",
      "[2, 5, 3, 5, 6, 7, 3, 4, 6, 5, 4, 0] 2858\n",
      "[2, 5, 3, 5, 6, 7, 3, 4, 6, 5, 4, 0] 2858\n",
      "[2, 5, 3, 5, 6, 7, 3, 4, 6, 5, 4, 0] 2858\n",
      "[2, 5, 3, 5, 6, 7, 3, 4, 6, 5, 4, 0] 2858\n",
      "[2, 5, 3, 5, 6, 7, 3, 4, 6, 5, 4, 0] 2858\n",
      "[2, 5, 3, 5, 6, 7, 3, 4, 6, 5, 4, 0] 2858\n",
      "[2, 5, 3, 5, 6, 7, 3, 4, 6, 5, 4, 0] 2858\n",
      "[2, 5, 3, 5, 6, 7, 3, 4, 6, 5, 4, 0] 2858\n",
      "[2, 5, 3, 5, 6, 7, 3, 4, 6, 5, 4, 0] 2858\n",
      "[2, 5, 3, 5, 6, 7, 3, 4, 6, 5, 4, 0] 2858\n",
      "[2, 5, 3, 5, 6, 7, 3, 4, 6, 5, 4, 0] 2858\n",
      "[2, 5, 3, 5, 6, 7, 3, 4, 6, 5, 4, 0] 2858\n",
      "[2, 5, 3, 5, 6, 7, 3, 4, 6, 5, 4, 0] 2858\n",
      "[2, 5, 3, 5, 6, 7, 3, 4, 6, 5, 4, 0] 2858\n",
      "[2, 5, 3, 5, 6, 7, 3, 4, 6, 5, 4, 0] 2858\n",
      "[2, 5, 3, 5, 6, 7, 3, 4, 6, 5, 4, 0] 2858\n",
      "[2, 5, 3, 5, 6, 7, 3, 4, 6, 5, 4, 0] 2858\n",
      "[2, 5, 3, 5, 6, 7, 3, 4, 6, 5, 4, 0] 2858\n",
      "[2, 5, 3, 5, 6, 7, 3, 4, 6, 5, 4, 0] 2858\n",
      "[2, 5, 3, 5, 6, 7, 3, 4, 6, 5, 4, 0] 2858\n",
      "[2, 5, 3, 5, 6, 7, 3, 4, 6, 5, 4, 0] 2858\n",
      "[2, 5, 3, 5, 6, 7, 3, 4, 6, 5, 4, 0] 2858\n",
      "[3, 5, 3, 5, 6, 7, 3, 4, 6, 5, 4, 0] 2670\n",
      "[3, 5, 3, 5, 6, 7, 3, 4, 6, 5, 4, 0] 2670\n",
      "[3, 5, 3, 5, 6, 7, 3, 4, 6, 5, 4, 0] 2670\n",
      "[3, 5, 3, 5, 6, 7, 3, 4, 6, 5, 4, 0] 2670\n",
      "[3, 5, 3, 5, 6, 7, 3, 4, 6, 5, 4, 0] 2670\n",
      "[3, 5, 3, 5, 6, 7, 3, 4, 6, 5, 4, 0] 2670\n",
      "[3, 5, 3, 5, 6, 7, 3, 4, 6, 5, 4, 0] 2670\n",
      "[3, 5, 3, 5, 6, 7, 3, 4, 6, 5, 4, 0] 2670\n",
      "[3, 5, 3, 5, 6, 7, 3, 4, 6, 5, 4, 0] 2670\n",
      "[3, 5, 3, 5, 6, 7, 3, 4, 6, 5, 4, 0] 2670\n",
      "[3, 5, 3, 5, 6, 7, 3, 4, 6, 5, 4, 0] 2670\n",
      "[3, 5, 3, 5, 6, 7, 3, 4, 6, 5, 4, 0] 2670\n",
      "[3, 5, 3, 5, 6, 7, 3, 4, 6, 5, 4, 0] 2670\n",
      "[3, 5, 3, 5, 6, 7, 3, 4, 6, 5, 4, 0] 2670\n",
      "[3, 5, 3, 5, 6, 7, 3, 4, 6, 5, 4, 0] 2670\n",
      "[3, 5, 3, 5, 6, 7, 3, 4, 6, 5, 4, 0] 2670\n",
      "[3, 5, 3, 5, 6, 7, 3, 4, 6, 5, 4, 0] 2670\n"
     ]
    },
    {
     "data": {
      "text/plain": [
       "[3, 5, 3, 5, 6, 7, 3, 4, 6, 5, 4, 0]"
      ]
     },
     "execution_count": 20,
     "metadata": {},
     "output_type": "execute_result"
    }
   ],
   "source": [
    "annealingoptimize(domain,schedulecost)"
   ]
  },
  {
   "cell_type": "code",
   "execution_count": 21,
   "metadata": {},
   "outputs": [
    {
     "data": {
      "text/plain": [
       "2811"
      ]
     },
     "execution_count": 21,
     "metadata": {},
     "output_type": "execute_result"
    }
   ],
   "source": [
    "schedulecost(s)"
   ]
  },
  {
   "cell_type": "code",
   "execution_count": 22,
   "metadata": {},
   "outputs": [
    {
     "name": "stdout",
     "output_type": "stream",
     "text": [
      "Seymour BOS 17:11-18:30 $108 | 10:33-12:03 $74\n",
      "Franny DAL 10:30-14:57 $290 | 6:09-9:49 $414\n",
      "Zooey CAK 6:08-8:06 $224 | 13:37-15:33 $142\n",
      "Walt MIA 14:01-17:24 $338 | 12:37-15:05 $170\n",
      "Buddy ORD 12:44-14:17 $134 | 6:03-8:43 $219\n",
      "Les OMA 6:11-8:31 $249 | 15:07-17:21 $129\n"
     ]
    }
   ],
   "source": [
    "printschedule(s)"
   ]
  },
  {
   "cell_type": "code",
   "execution_count": 23,
   "metadata": {},
   "outputs": [],
   "source": [
    "def geneticoptimize(domain,costf,popsize=50,step=1,mutprod=0.2,elite=0.2,maxiter=100):    \n",
    "    # Операция мутации\n",
    "    def mutate(vec):\n",
    "        i=random.randint(0,len(domain)-1)\n",
    "        if random.random()<0.5 and vec[i]>domain[i][0]:\n",
    "            return (vec[0:i]+[vec[i]-step]+vec[i+1:])\n",
    "        elif vec[i]<domain[i][1]:\n",
    "            return (vec[0:i]+[vec[i]+step]+vec[i+1:])\n",
    "        \n",
    "    # Операция скрещивания\n",
    "    def crossover(r1,r2):\n",
    "        i=random.randint(1,len(domain)-2)\n",
    "        return (r1[0:i]+r2[i:])\n",
    "    \n",
    "    #Строим начальную популяцию\n",
    "    pop=[]\n",
    "    for i in range(popsize):\n",
    "        vec=[random.randint(domain[i][0],domain[i][1]) for i in range(len(domain))]\n",
    "        pop.append(vec)\n",
    "                            \n",
    "    # Сколько брать победителей из каждой популяции?\n",
    "    topelite=int(elite*popsize)\n",
    "    \n",
    "    \n",
    "    # Главный цикл\n",
    "    for i in range(maxiter):\n",
    "        scores=[(costf(v),v) for v in pop]\n",
    "        scores.sort()\n",
    "        ranked=[v for (s,v) in scores]\n",
    "        # Сначала включаем только победителей\n",
    "        pop=ranked[0:topelite]\n",
    "        # Добавляем особей, полученных мутацией и скрещиванием победивших\n",
    "        # родителей\n",
    "        while len(pop)<popsize:\n",
    "            if random.random()<mutprod:\n",
    "                # Мутация\n",
    "                c=random.randint(0,topelite)\n",
    "                pop.append(mutate(ranked[c]))\n",
    "            else:\n",
    "                # Скрещивание\n",
    "                c1=random.randint(0,topelite)\n",
    "                c2=random.randint(0,topelite)\n",
    "                pop.append(crossover(ranked[c1],ranked[c2]))\n",
    "        # Печатаем полученные к текущему моменту наилучшие результаты\n",
    "        print (scores[0][0])\n",
    "    return scores[0][1]"
   ]
  },
  {
   "cell_type": "code",
   "execution_count": 24,
   "metadata": {},
   "outputs": [
    {
     "name": "stdout",
     "output_type": "stream",
     "text": [
      "2470\n",
      "2320\n",
      "2320\n",
      "2278\n"
     ]
    },
    {
     "ename": "TypeError",
     "evalue": "object of type 'NoneType' has no len()",
     "output_type": "error",
     "traceback": [
      "\u001b[0;31m---------------------------------------------------------------------------\u001b[0m",
      "\u001b[0;31mTypeError\u001b[0m                                 Traceback (most recent call last)",
      "\u001b[0;32m<ipython-input-24-9047cc601cb2>\u001b[0m in \u001b[0;36m<module>\u001b[0;34m\u001b[0m\n\u001b[0;32m----> 1\u001b[0;31m \u001b[0mgeneticoptimize\u001b[0m\u001b[0;34m(\u001b[0m\u001b[0mdomain\u001b[0m\u001b[0;34m,\u001b[0m\u001b[0mschedulecost\u001b[0m\u001b[0;34m)\u001b[0m\u001b[0;34m\u001b[0m\u001b[0;34m\u001b[0m\u001b[0m\n\u001b[0m",
      "\u001b[0;32m<ipython-input-23-6ad988c99412>\u001b[0m in \u001b[0;36mgeneticoptimize\u001b[0;34m(domain, costf, popsize, step, mutprod, elite, maxiter)\u001b[0m\n\u001b[1;32m     25\u001b[0m     \u001b[0;31m# Главный цикл\u001b[0m\u001b[0;34m\u001b[0m\u001b[0;34m\u001b[0m\u001b[0;34m\u001b[0m\u001b[0m\n\u001b[1;32m     26\u001b[0m     \u001b[0;32mfor\u001b[0m \u001b[0mi\u001b[0m \u001b[0;32min\u001b[0m \u001b[0mrange\u001b[0m\u001b[0;34m(\u001b[0m\u001b[0mmaxiter\u001b[0m\u001b[0;34m)\u001b[0m\u001b[0;34m:\u001b[0m\u001b[0;34m\u001b[0m\u001b[0;34m\u001b[0m\u001b[0m\n\u001b[0;32m---> 27\u001b[0;31m         \u001b[0mscores\u001b[0m\u001b[0;34m=\u001b[0m\u001b[0;34m[\u001b[0m\u001b[0;34m(\u001b[0m\u001b[0mcostf\u001b[0m\u001b[0;34m(\u001b[0m\u001b[0mv\u001b[0m\u001b[0;34m)\u001b[0m\u001b[0;34m,\u001b[0m\u001b[0mv\u001b[0m\u001b[0;34m)\u001b[0m \u001b[0;32mfor\u001b[0m \u001b[0mv\u001b[0m \u001b[0;32min\u001b[0m \u001b[0mpop\u001b[0m\u001b[0;34m]\u001b[0m\u001b[0;34m\u001b[0m\u001b[0;34m\u001b[0m\u001b[0m\n\u001b[0m\u001b[1;32m     28\u001b[0m         \u001b[0mscores\u001b[0m\u001b[0;34m.\u001b[0m\u001b[0msort\u001b[0m\u001b[0;34m(\u001b[0m\u001b[0;34m)\u001b[0m\u001b[0;34m\u001b[0m\u001b[0;34m\u001b[0m\u001b[0m\n\u001b[1;32m     29\u001b[0m         \u001b[0mranked\u001b[0m\u001b[0;34m=\u001b[0m\u001b[0;34m[\u001b[0m\u001b[0mv\u001b[0m \u001b[0;32mfor\u001b[0m \u001b[0;34m(\u001b[0m\u001b[0ms\u001b[0m\u001b[0;34m,\u001b[0m\u001b[0mv\u001b[0m\u001b[0;34m)\u001b[0m \u001b[0;32min\u001b[0m \u001b[0mscores\u001b[0m\u001b[0;34m]\u001b[0m\u001b[0;34m\u001b[0m\u001b[0;34m\u001b[0m\u001b[0m\n",
      "\u001b[0;32m<ipython-input-23-6ad988c99412>\u001b[0m in \u001b[0;36m<listcomp>\u001b[0;34m(.0)\u001b[0m\n\u001b[1;32m     25\u001b[0m     \u001b[0;31m# Главный цикл\u001b[0m\u001b[0;34m\u001b[0m\u001b[0;34m\u001b[0m\u001b[0;34m\u001b[0m\u001b[0m\n\u001b[1;32m     26\u001b[0m     \u001b[0;32mfor\u001b[0m \u001b[0mi\u001b[0m \u001b[0;32min\u001b[0m \u001b[0mrange\u001b[0m\u001b[0;34m(\u001b[0m\u001b[0mmaxiter\u001b[0m\u001b[0;34m)\u001b[0m\u001b[0;34m:\u001b[0m\u001b[0;34m\u001b[0m\u001b[0;34m\u001b[0m\u001b[0m\n\u001b[0;32m---> 27\u001b[0;31m         \u001b[0mscores\u001b[0m\u001b[0;34m=\u001b[0m\u001b[0;34m[\u001b[0m\u001b[0;34m(\u001b[0m\u001b[0mcostf\u001b[0m\u001b[0;34m(\u001b[0m\u001b[0mv\u001b[0m\u001b[0;34m)\u001b[0m\u001b[0;34m,\u001b[0m\u001b[0mv\u001b[0m\u001b[0;34m)\u001b[0m \u001b[0;32mfor\u001b[0m \u001b[0mv\u001b[0m \u001b[0;32min\u001b[0m \u001b[0mpop\u001b[0m\u001b[0;34m]\u001b[0m\u001b[0;34m\u001b[0m\u001b[0;34m\u001b[0m\u001b[0m\n\u001b[0m\u001b[1;32m     28\u001b[0m         \u001b[0mscores\u001b[0m\u001b[0;34m.\u001b[0m\u001b[0msort\u001b[0m\u001b[0;34m(\u001b[0m\u001b[0;34m)\u001b[0m\u001b[0;34m\u001b[0m\u001b[0;34m\u001b[0m\u001b[0m\n\u001b[1;32m     29\u001b[0m         \u001b[0mranked\u001b[0m\u001b[0;34m=\u001b[0m\u001b[0;34m[\u001b[0m\u001b[0mv\u001b[0m \u001b[0;32mfor\u001b[0m \u001b[0;34m(\u001b[0m\u001b[0ms\u001b[0m\u001b[0;34m,\u001b[0m\u001b[0mv\u001b[0m\u001b[0;34m)\u001b[0m \u001b[0;32min\u001b[0m \u001b[0mscores\u001b[0m\u001b[0;34m]\u001b[0m\u001b[0;34m\u001b[0m\u001b[0;34m\u001b[0m\u001b[0m\n",
      "\u001b[0;32m<ipython-input-8-afe0f2775992>\u001b[0m in \u001b[0;36mschedulecost\u001b[0;34m(sol)\u001b[0m\n\u001b[1;32m      4\u001b[0m     \u001b[0mearliestdep\u001b[0m\u001b[0;34m=\u001b[0m\u001b[0;36m24\u001b[0m\u001b[0;34m*\u001b[0m\u001b[0;36m60\u001b[0m\u001b[0;34m\u001b[0m\u001b[0;34m\u001b[0m\u001b[0m\n\u001b[1;32m      5\u001b[0m \u001b[0;34m\u001b[0m\u001b[0m\n\u001b[0;32m----> 6\u001b[0;31m     \u001b[0;32mfor\u001b[0m \u001b[0md\u001b[0m \u001b[0;32min\u001b[0m \u001b[0mrange\u001b[0m\u001b[0;34m(\u001b[0m\u001b[0mint\u001b[0m\u001b[0;34m(\u001b[0m\u001b[0mlen\u001b[0m\u001b[0;34m(\u001b[0m\u001b[0msol\u001b[0m\u001b[0;34m)\u001b[0m\u001b[0;34m/\u001b[0m\u001b[0;36m2\u001b[0m\u001b[0;34m)\u001b[0m\u001b[0;34m)\u001b[0m\u001b[0;34m:\u001b[0m\u001b[0;34m\u001b[0m\u001b[0;34m\u001b[0m\u001b[0m\n\u001b[0m\u001b[1;32m      7\u001b[0m         \u001b[0;31m# Get the inbound and outbound flights\u001b[0m\u001b[0;34m\u001b[0m\u001b[0;34m\u001b[0m\u001b[0;34m\u001b[0m\u001b[0m\n\u001b[1;32m      8\u001b[0m         \u001b[0morigin\u001b[0m\u001b[0;34m=\u001b[0m\u001b[0mpeople\u001b[0m\u001b[0;34m[\u001b[0m\u001b[0md\u001b[0m\u001b[0;34m]\u001b[0m\u001b[0;34m[\u001b[0m\u001b[0;36m1\u001b[0m\u001b[0;34m]\u001b[0m\u001b[0;34m\u001b[0m\u001b[0;34m\u001b[0m\u001b[0m\n",
      "\u001b[0;31mTypeError\u001b[0m: object of type 'NoneType' has no len()"
     ]
    }
   ],
   "source": [
    "geneticoptimize(domain,schedulecost)"
   ]
  },
  {
   "cell_type": "code",
   "execution_count": 25,
   "metadata": {},
   "outputs": [
    {
     "name": "stdout",
     "output_type": "stream",
     "text": [
      "Seymour BOS 17:11-18:30 $108 | 10:33-12:03 $74\n",
      "Franny DAL 10:30-14:57 $290 | 6:09-9:49 $414\n",
      "Zooey CAK 6:08-8:06 $224 | 13:37-15:33 $142\n",
      "Walt MIA 14:01-17:24 $338 | 12:37-15:05 $170\n",
      "Buddy ORD 12:44-14:17 $134 | 6:03-8:43 $219\n",
      "Les OMA 6:11-8:31 $249 | 15:07-17:21 $129\n"
     ]
    }
   ],
   "source": [
    "printschedule(s)"
   ]
  },
  {
   "cell_type": "code",
   "execution_count": 26,
   "metadata": {},
   "outputs": [
    {
     "name": "stdout",
     "output_type": "stream",
     "text": [
      "2528\n",
      "2528\n",
      "2306\n",
      "2305\n",
      "2214\n",
      "2162\n",
      "2126\n",
      "2126\n",
      "2126\n",
      "2126\n",
      "2126\n",
      "2126\n",
      "2126\n",
      "2126\n",
      "2126\n",
      "2126\n",
      "2120\n",
      "2120\n",
      "2120\n",
      "2120\n",
      "2120\n",
      "2120\n",
      "2120\n",
      "2120\n",
      "2120\n",
      "2120\n",
      "2120\n",
      "2120\n",
      "2120\n",
      "2120\n",
      "2120\n",
      "2120\n",
      "2120\n",
      "2120\n",
      "2120\n",
      "2120\n",
      "2120\n",
      "2120\n",
      "2120\n",
      "2120\n",
      "2120\n",
      "2120\n",
      "2120\n",
      "2120\n",
      "2120\n",
      "2120\n",
      "2120\n",
      "2120\n",
      "2120\n",
      "2120\n",
      "2120\n",
      "2120\n",
      "2120\n",
      "2120\n",
      "2120\n",
      "2120\n",
      "2120\n",
      "2120\n",
      "2120\n",
      "2120\n",
      "2120\n",
      "2120\n",
      "2120\n",
      "2120\n",
      "2120\n",
      "2120\n",
      "2120\n",
      "2120\n",
      "2120\n",
      "2120\n",
      "2120\n",
      "2120\n",
      "2120\n",
      "2120\n",
      "2120\n",
      "2120\n",
      "2120\n",
      "2120\n",
      "2120\n",
      "2120\n",
      "2120\n",
      "2120\n",
      "2120\n",
      "2120\n",
      "2120\n",
      "2120\n",
      "2120\n",
      "2120\n",
      "2120\n",
      "2120\n",
      "2120\n",
      "2120\n",
      "2120\n",
      "2120\n",
      "2120\n",
      "2120\n",
      "2120\n",
      "2120\n",
      "2120\n",
      "2120\n"
     ]
    }
   ],
   "source": [
    "GENTETIC = geneticoptimize(domain,schedulecost)"
   ]
  },
  {
   "cell_type": "code",
   "execution_count": 27,
   "metadata": {},
   "outputs": [
    {
     "name": "stdout",
     "output_type": "stream",
     "text": [
      "[8, 6, 1, 6, 3, 8, 5, 7, 3, 5, 8, 0] 3307\n",
      "[8, 6, 1, 6, 3, 8, 5, 7, 3, 5, 8, 0] 3307\n",
      "[8, 6, 1, 6, 3, 8, 6, 7, 3, 5, 8, 0] 3210\n",
      "[8, 6, 1, 6, 3, 8, 6, 7, 3, 5, 8, 0] 3210\n",
      "[8, 6, 1, 6, 3, 8, 6, 7, 3, 5, 8, 0] 3210\n",
      "[8, 6, 1, 6, 3, 8, 6, 7, 3, 5, 8, 0] 3210\n",
      "[8, 6, 1, 6, 3, 8, 6, 7, 3, 5, 8, 0] 3210\n",
      "[8, 6, 1, 6, 3, 8, 6, 7, 3, 5, 8, 0] 3210\n",
      "[8, 6, 1, 6, 3, 8, 6, 7, 3, 5, 8, 0] 3210\n",
      "[8, 6, 1, 6, 3, 8, 6, 7, 3, 5, 8, 0] 3210\n",
      "[8, 6, 1, 6, 3, 8, 6, 7, 3, 5, 8, 0] 3210\n",
      "[8, 6, 1, 6, 3, 8, 6, 7, 3, 5, 8, 0] 3210\n",
      "[8, 6, 1, 6, 3, 8, 6, 7, 3, 5, 8, 0] 3210\n",
      "[8, 6, 1, 6, 3, 8, 6, 7, 3, 5, 8, 0] 3210\n",
      "[8, 6, 1, 6, 3, 8, 6, 7, 3, 5, 8, 0] 3210\n",
      "[8, 6, 1, 6, 3, 8, 6, 7, 3, 5, 8, 0] 3210\n",
      "[8, 6, 1, 6, 3, 8, 6, 7, 3, 5, 8, 0] 3210\n",
      "[8, 6, 1, 6, 3, 8, 6, 7, 3, 5, 8, 0] 3210\n",
      "[8, 6, 1, 6, 3, 8, 6, 7, 3, 5, 8, 0] 3210\n",
      "[8, 6, 1, 6, 3, 8, 6, 7, 3, 5, 8, 0] 3210\n",
      "[8, 6, 1, 6, 3, 8, 6, 7, 3, 5, 8, 0] 3210\n",
      "[8, 6, 1, 6, 3, 8, 6, 7, 3, 5, 8, 0] 3210\n",
      "[8, 6, 1, 6, 3, 8, 6, 7, 3, 5, 8, 0] 3210\n",
      "[8, 6, 1, 6, 4, 8, 6, 7, 3, 5, 8, 0] 2992\n",
      "[8, 6, 1, 6, 4, 8, 6, 7, 3, 5, 8, 0] 2992\n",
      "[8, 6, 1, 6, 4, 8, 6, 7, 3, 5, 8, 0] 2992\n",
      "[8, 6, 1, 6, 4, 8, 6, 7, 3, 5, 8, 0] 2992\n",
      "[8, 6, 1, 6, 4, 8, 6, 7, 3, 5, 8, 0] 2992\n",
      "[8, 6, 1, 6, 4, 8, 6, 7, 3, 5, 8, 0] 2992\n",
      "[8, 6, 1, 6, 4, 8, 6, 7, 3, 5, 8, 0] 2992\n",
      "[8, 6, 1, 6, 4, 8, 6, 7, 3, 5, 8, 0] 2992\n",
      "[8, 6, 1, 6, 4, 8, 6, 7, 3, 5, 8, 0] 2992\n",
      "[8, 6, 2, 6, 4, 8, 6, 7, 3, 5, 8, 0] 2870\n",
      "[8, 6, 2, 6, 4, 8, 6, 7, 3, 5, 8, 0] 2870\n",
      "[8, 6, 2, 6, 4, 8, 6, 7, 3, 5, 8, 0] 2870\n",
      "[8, 6, 2, 6, 4, 8, 6, 7, 3, 5, 8, 0] 2870\n",
      "[8, 6, 2, 6, 4, 8, 6, 7, 3, 5, 8, 0] 2870\n",
      "[8, 6, 2, 6, 4, 8, 6, 7, 3, 5, 8, 0] 2870\n",
      "[8, 6, 2, 5, 4, 8, 6, 7, 3, 5, 8, 0] 2781\n",
      "[8, 6, 2, 5, 4, 8, 6, 7, 3, 5, 8, 0] 2781\n",
      "[8, 6, 2, 5, 4, 8, 6, 7, 3, 5, 8, 0] 2781\n",
      "[8, 6, 2, 5, 4, 7, 6, 7, 3, 5, 8, 0] 2597\n",
      "[8, 6, 2, 5, 4, 7, 6, 7, 3, 5, 8, 0] 2597\n",
      "[8, 6, 2, 5, 4, 7, 6, 7, 3, 5, 8, 0] 2597\n",
      "[8, 5, 2, 5, 4, 7, 6, 7, 3, 5, 8, 0] 2415\n",
      "[8, 5, 3, 5, 4, 7, 6, 7, 3, 5, 8, 0] 2322\n",
      "[8, 5, 3, 5, 4, 7, 6, 7, 3, 5, 8, 0] 2322\n",
      "[8, 5, 3, 5, 4, 7, 6, 7, 3, 5, 8, 0] 2322\n",
      "[8, 5, 3, 5, 4, 7, 6, 7, 3, 5, 8, 0] 2322\n",
      "[8, 5, 3, 5, 4, 7, 6, 7, 3, 5, 8, 0] 2322\n",
      "[8, 5, 3, 5, 4, 7, 6, 7, 3, 5, 8, 0] 2322\n",
      "[8, 5, 3, 5, 4, 7, 6, 7, 3, 5, 8, 0] 2322\n",
      "[8, 5, 3, 5, 4, 7, 6, 7, 3, 5, 8, 0] 2322\n",
      "[8, 5, 3, 5, 4, 7, 6, 7, 3, 5, 8, 0] 2322\n",
      "[8, 5, 3, 5, 4, 7, 6, 7, 3, 5, 8, 0] 2322\n",
      "[8, 5, 3, 5, 4, 7, 6, 7, 3, 5, 8, 0] 2322\n",
      "[8, 5, 3, 5, 4, 7, 6, 7, 3, 5, 8, 0] 2322\n",
      "[8, 5, 3, 5, 4, 7, 6, 7, 3, 5, 8, 0] 2322\n",
      "[8, 5, 3, 5, 4, 7, 6, 7, 3, 5, 8, 0] 2322\n",
      "[8, 5, 3, 5, 4, 7, 6, 7, 3, 5, 8, 0] 2322\n",
      "[8, 5, 3, 5, 4, 7, 6, 7, 3, 5, 8, 0] 2322\n",
      "[8, 5, 3, 5, 4, 7, 6, 7, 3, 5, 8, 0] 2322\n",
      "[8, 5, 3, 5, 4, 7, 6, 7, 3, 5, 8, 0] 2322\n",
      "[8, 5, 3, 5, 4, 7, 6, 7, 3, 5, 8, 0] 2322\n",
      "[8, 5, 3, 5, 4, 7, 6, 7, 3, 5, 8, 0] 2322\n",
      "[8, 5, 3, 5, 4, 7, 6, 7, 3, 5, 8, 0] 2322\n",
      "[8, 5, 3, 5, 4, 7, 6, 7, 3, 5, 8, 0] 2322\n",
      "[8, 5, 3, 5, 4, 7, 6, 7, 3, 5, 8, 0] 2322\n",
      "[8, 5, 3, 5, 4, 7, 6, 7, 3, 5, 8, 0] 2322\n",
      "[8, 5, 3, 5, 4, 7, 6, 7, 3, 5, 8, 0] 2322\n",
      "[8, 5, 3, 5, 4, 7, 6, 7, 3, 5, 8, 0] 2322\n",
      "[8, 5, 3, 5, 4, 7, 6, 7, 3, 5, 8, 0] 2322\n",
      "[8, 5, 3, 5, 4, 7, 6, 7, 3, 5, 8, 0] 2322\n",
      "[8, 5, 3, 5, 4, 7, 6, 7, 3, 5, 8, 0] 2322\n",
      "[8, 5, 3, 5, 4, 7, 6, 7, 3, 5, 8, 0] 2322\n",
      "[8, 5, 3, 5, 4, 7, 6, 7, 3, 5, 8, 0] 2322\n",
      "[8, 5, 3, 5, 4, 7, 6, 7, 3, 5, 8, 0] 2322\n",
      "[8, 5, 3, 5, 4, 7, 6, 7, 3, 5, 8, 0] 2322\n",
      "[8, 5, 3, 5, 4, 7, 6, 7, 3, 5, 8, 0] 2322\n",
      "[8, 5, 3, 5, 4, 7, 6, 7, 3, 5, 8, 0] 2322\n",
      "[8, 5, 3, 5, 4, 7, 6, 7, 3, 5, 8, 0] 2322\n",
      "[8, 5, 3, 5, 4, 7, 6, 7, 3, 5, 8, 0] 2322\n",
      "[8, 5, 3, 5, 4, 7, 6, 7, 3, 5, 8, 0] 2322\n",
      "[8, 5, 3, 5, 4, 7, 6, 7, 3, 5, 8, 0] 2322\n",
      "[8, 5, 3, 5, 4, 7, 6, 7, 3, 5, 8, 0] 2322\n",
      "[8, 5, 3, 5, 4, 7, 6, 7, 3, 5, 8, 0] 2322\n",
      "[8, 5, 3, 5, 4, 7, 6, 7, 3, 5, 8, 0] 2322\n",
      "[8, 5, 3, 5, 4, 7, 6, 7, 3, 5, 8, 0] 2322\n",
      "[8, 5, 3, 5, 4, 7, 6, 7, 3, 5, 8, 0] 2322\n",
      "[8, 5, 3, 5, 4, 7, 6, 7, 3, 5, 8, 0] 2322\n",
      "[8, 5, 3, 5, 4, 7, 6, 7, 3, 5, 8, 0] 2322\n",
      "[8, 5, 3, 5, 4, 7, 6, 7, 3, 5, 8, 0] 2322\n",
      "[8, 5, 3, 5, 4, 7, 6, 7, 3, 5, 8, 0] 2322\n",
      "[8, 5, 3, 5, 4, 7, 6, 7, 3, 5, 8, 0] 2322\n",
      "[8, 5, 3, 5, 4, 7, 6, 7, 3, 5, 8, 0] 2322\n",
      "[8, 5, 3, 5, 4, 7, 6, 7, 3, 5, 8, 0] 2322\n",
      "[8, 5, 3, 5, 4, 7, 6, 7, 3, 5, 8, 0] 2322\n",
      "[8, 5, 3, 5, 4, 7, 6, 7, 3, 5, 8, 0] 2322\n",
      "[8, 5, 3, 5, 4, 7, 6, 7, 3, 5, 8, 0] 2322\n",
      "[8, 5, 3, 5, 4, 7, 6, 7, 3, 5, 8, 0] 2322\n",
      "[8, 5, 3, 5, 4, 7, 6, 7, 3, 5, 8, 0] 2322\n",
      "[8, 5, 3, 5, 4, 7, 6, 7, 3, 5, 8, 0] 2322\n",
      "[8, 5, 3, 5, 4, 7, 6, 7, 3, 5, 8, 0] 2322\n",
      "[8, 5, 3, 5, 4, 7, 6, 7, 3, 5, 8, 0] 2322\n",
      "[8, 5, 3, 5, 4, 7, 6, 7, 3, 5, 8, 0] 2322\n",
      "[8, 5, 3, 5, 4, 7, 6, 7, 3, 5, 8, 0] 2322\n",
      "[8, 5, 3, 5, 4, 7, 6, 7, 3, 5, 8, 0] 2322\n",
      "[8, 5, 3, 5, 4, 7, 6, 7, 3, 5, 8, 0] 2322\n",
      "[8, 5, 3, 5, 4, 7, 6, 7, 3, 5, 8, 0] 2322\n",
      "[8, 5, 3, 5, 4, 7, 6, 7, 3, 5, 8, 0] 2322\n",
      "[8, 5, 3, 5, 4, 7, 6, 7, 3, 5, 8, 0] 2322\n",
      "[8, 5, 3, 5, 4, 7, 6, 7, 3, 5, 8, 0] 2322\n",
      "[8, 5, 3, 5, 4, 7, 6, 7, 3, 5, 8, 0] 2322\n",
      "[8, 5, 3, 5, 4, 7, 6, 7, 3, 5, 8, 0] 2322\n",
      "[8, 5, 3, 5, 4, 7, 6, 7, 3, 5, 8, 0] 2322\n",
      "[8, 5, 3, 5, 4, 7, 6, 7, 3, 5, 8, 0] 2322\n",
      "[8, 5, 3, 5, 4, 7, 6, 7, 3, 5, 8, 0] 2322\n",
      "[8, 5, 3, 5, 4, 7, 6, 7, 3, 5, 8, 0] 2322\n",
      "[8, 5, 3, 5, 4, 7, 6, 7, 3, 5, 8, 0] 2322\n",
      "[8, 5, 3, 5, 4, 7, 6, 7, 3, 5, 8, 0] 2322\n",
      "[8, 5, 3, 5, 4, 7, 6, 7, 3, 5, 8, 0] 2322\n",
      "[8, 5, 3, 5, 4, 7, 6, 7, 3, 5, 8, 0] 2322\n",
      "[8, 5, 3, 5, 4, 7, 6, 7, 3, 5, 8, 0] 2322\n",
      "[8, 5, 3, 5, 4, 7, 6, 7, 3, 5, 8, 0] 2322\n",
      "[8, 5, 3, 5, 4, 7, 6, 7, 3, 5, 8, 0] 2322\n",
      "[8, 5, 3, 5, 4, 7, 6, 7, 3, 5, 8, 0] 2322\n",
      "[8, 5, 3, 5, 4, 7, 6, 7, 3, 5, 8, 0] 2322\n",
      "[8, 5, 3, 5, 4, 7, 6, 7, 3, 5, 8, 0] 2322\n",
      "[8, 5, 3, 5, 4, 7, 6, 7, 3, 5, 8, 0] 2322\n",
      "[8, 5, 3, 5, 4, 7, 6, 7, 3, 5, 8, 0] 2322\n",
      "[8, 5, 3, 5, 4, 7, 6, 7, 3, 5, 8, 0] 2322\n",
      "[8, 5, 3, 5, 4, 7, 6, 7, 3, 5, 8, 0] 2322\n",
      "[8, 5, 3, 5, 4, 7, 6, 7, 3, 5, 8, 0] 2322\n",
      "[8, 5, 3, 5, 4, 7, 6, 7, 3, 5, 8, 0] 2322\n",
      "[8, 5, 3, 5, 4, 7, 6, 7, 3, 5, 8, 0] 2322\n",
      "[8, 5, 3, 5, 4, 7, 6, 7, 3, 5, 8, 0] 2322\n",
      "[8, 5, 3, 5, 4, 7, 6, 7, 3, 5, 8, 0] 2322\n",
      "[8, 5, 3, 5, 4, 7, 6, 7, 3, 5, 8, 0] 2322\n",
      "[8, 5, 3, 5, 4, 7, 6, 7, 3, 5, 8, 0] 2322\n",
      "[8, 5, 3, 5, 4, 7, 6, 7, 3, 5, 8, 0] 2322\n",
      "[8, 5, 3, 5, 4, 7, 6, 7, 3, 5, 8, 0] 2322\n",
      "[8, 5, 3, 5, 4, 7, 6, 7, 3, 5, 8, 0] 2322\n",
      "[8, 5, 3, 5, 4, 7, 6, 7, 3, 5, 8, 0] 2322\n",
      "[8, 5, 3, 5, 4, 7, 6, 7, 3, 5, 8, 0] 2322\n",
      "[8, 5, 3, 5, 4, 7, 6, 7, 3, 5, 8, 0] 2322\n",
      "[8, 5, 3, 5, 4, 7, 6, 7, 3, 5, 8, 0] 2322\n",
      "[8, 5, 3, 5, 4, 7, 6, 7, 3, 5, 8, 0] 2322\n",
      "[8, 5, 3, 5, 4, 7, 6, 7, 3, 5, 8, 0] 2322\n",
      "[8, 5, 3, 5, 4, 7, 6, 7, 3, 5, 8, 0] 2322\n",
      "[8, 5, 3, 5, 4, 7, 6, 7, 3, 5, 8, 0] 2322\n",
      "[8, 5, 3, 5, 4, 7, 6, 7, 3, 5, 8, 0] 2322\n",
      "[8, 5, 3, 5, 4, 7, 6, 7, 3, 5, 8, 0] 2322\n",
      "[8, 5, 3, 5, 4, 7, 6, 7, 3, 5, 8, 0] 2322\n",
      "[8, 5, 3, 5, 4, 7, 6, 7, 3, 5, 8, 0] 2322\n",
      "[8, 5, 3, 5, 4, 7, 6, 7, 3, 5, 8, 0] 2322\n",
      "[8, 5, 3, 5, 4, 7, 6, 7, 3, 5, 8, 0] 2322\n",
      "[8, 5, 3, 5, 4, 7, 6, 7, 3, 5, 8, 0] 2322\n",
      "[8, 5, 3, 5, 4, 7, 6, 7, 3, 5, 8, 0] 2322\n",
      "[8, 5, 3, 5, 4, 7, 6, 7, 3, 5, 8, 0] 2322\n",
      "[8, 5, 3, 5, 4, 7, 6, 7, 3, 5, 8, 0] 2322\n",
      "[8, 5, 3, 5, 4, 7, 6, 7, 3, 5, 8, 0] 2322\n",
      "[8, 5, 3, 5, 4, 7, 6, 7, 3, 5, 8, 0] 2322\n",
      "[8, 5, 3, 5, 4, 7, 6, 7, 3, 5, 8, 0] 2322\n",
      "[8, 5, 3, 5, 4, 7, 6, 7, 3, 5, 8, 0] 2322\n",
      "[8, 5, 3, 5, 4, 7, 6, 7, 3, 5, 8, 0] 2322\n",
      "[8, 5, 3, 5, 4, 7, 6, 7, 3, 5, 8, 0] 2322\n",
      "[8, 5, 3, 5, 4, 7, 6, 7, 3, 5, 8, 0] 2322\n",
      "[8, 5, 3, 5, 4, 7, 6, 7, 3, 5, 8, 0] 2322\n",
      "[8, 5, 3, 5, 4, 7, 6, 7, 3, 5, 8, 0] 2322\n",
      "[8, 5, 3, 5, 4, 7, 6, 7, 3, 5, 8, 0] 2322\n",
      "[8, 5, 3, 5, 4, 7, 6, 7, 3, 5, 8, 0] 2322\n",
      "[8, 5, 3, 5, 4, 7, 6, 7, 3, 5, 8, 0] 2322\n",
      "[8, 5, 3, 5, 4, 7, 6, 7, 3, 5, 8, 0] 2322\n",
      "[8, 5, 3, 5, 4, 7, 6, 7, 3, 5, 8, 0] 2322\n",
      "[8, 5, 3, 5, 4, 7, 6, 7, 3, 5, 8, 0] 2322\n",
      "[8, 5, 3, 5, 4, 7, 6, 7, 3, 5, 8, 0] 2322\n",
      "[8, 5, 3, 5, 4, 7, 6, 7, 3, 5, 8, 0] 2322\n",
      "[8, 5, 3, 5, 4, 7, 6, 7, 3, 5, 8, 0] 2322\n",
      "[8, 5, 3, 5, 4, 7, 6, 7, 3, 5, 8, 0] 2322\n",
      "[8, 5, 3, 5, 4, 7, 6, 7, 3, 5, 8, 0] 2322\n",
      "[8, 5, 3, 5, 4, 7, 6, 7, 3, 5, 8, 0] 2322\n",
      "[8, 5, 3, 5, 4, 7, 6, 7, 3, 5, 8, 0] 2322\n",
      "[8, 5, 3, 5, 4, 7, 6, 7, 3, 5, 8, 0] 2322\n",
      "[8, 5, 3, 5, 4, 7, 6, 7, 3, 5, 8, 0] 2322\n",
      "[8, 5, 3, 5, 4, 7, 6, 7, 3, 5, 8, 0] 2322\n",
      "[8, 5, 3, 5, 4, 7, 6, 7, 3, 5, 8, 0] 2322\n",
      "[8, 5, 3, 5, 4, 7, 6, 7, 3, 5, 8, 0] 2322\n",
      "[8, 5, 3, 5, 4, 7, 6, 7, 3, 5, 8, 0] 2322\n",
      "[8, 5, 3, 5, 4, 7, 6, 7, 3, 5, 8, 0] 2322\n",
      "[8, 5, 3, 5, 4, 7, 6, 7, 3, 5, 8, 0] 2322\n",
      "[8, 5, 3, 5, 4, 7, 6, 7, 3, 5, 8, 0] 2322\n",
      "[8, 5, 3, 5, 4, 7, 6, 7, 3, 5, 8, 0] 2322\n",
      "[8, 5, 3, 5, 4, 7, 6, 7, 3, 5, 8, 0] 2322\n",
      "[8, 5, 3, 5, 4, 7, 6, 7, 3, 5, 8, 0] 2322\n",
      "[8, 5, 3, 5, 4, 7, 6, 7, 3, 5, 8, 0] 2322\n",
      "[8, 5, 3, 5, 4, 7, 6, 7, 3, 5, 8, 0] 2322\n",
      "[8, 5, 3, 5, 4, 7, 6, 7, 3, 5, 8, 0] 2322\n",
      "[8, 5, 3, 5, 4, 7, 6, 7, 3, 5, 8, 0] 2322\n",
      "[8, 5, 3, 5, 4, 7, 6, 7, 3, 5, 8, 0] 2322\n",
      "[8, 5, 3, 5, 4, 7, 6, 7, 3, 5, 8, 0] 2322\n",
      "[8, 5, 3, 5, 4, 7, 6, 7, 3, 5, 8, 0] 2322\n",
      "[8, 5, 3, 5, 4, 7, 6, 7, 3, 5, 8, 0] 2322\n",
      "[8, 5, 3, 5, 4, 7, 6, 7, 3, 5, 8, 0] 2322\n",
      "[8, 5, 3, 5, 4, 7, 6, 7, 3, 5, 8, 0] 2322\n",
      "[8, 5, 3, 5, 4, 7, 6, 7, 3, 5, 8, 0] 2322\n",
      "[8, 5, 3, 5, 4, 7, 6, 7, 3, 5, 8, 0] 2322\n",
      "[8, 5, 3, 5, 4, 7, 6, 7, 3, 5, 8, 0] 2322\n",
      "[8, 5, 3, 5, 4, 7, 6, 7, 3, 5, 8, 0] 2322\n",
      "[8, 5, 3, 5, 4, 7, 6, 7, 3, 5, 8, 0] 2322\n",
      "[8, 5, 3, 5, 4, 7, 6, 7, 3, 5, 8, 0] 2322\n",
      "[8, 5, 3, 5, 4, 7, 6, 7, 3, 5, 8, 0] 2322\n",
      "[8, 5, 3, 5, 4, 7, 6, 7, 3, 5, 8, 0] 2322\n",
      "[8, 5, 3, 5, 4, 7, 6, 7, 3, 5, 8, 0] 2322\n",
      "[8, 5, 3, 5, 4, 7, 6, 7, 3, 5, 8, 0] 2322\n",
      "[8, 5, 3, 5, 4, 7, 6, 7, 3, 5, 8, 0] 2322\n",
      "[8, 5, 3, 5, 4, 7, 6, 7, 3, 5, 8, 0] 2322\n",
      "[8, 5, 3, 5, 4, 7, 6, 7, 3, 5, 8, 0] 2322\n",
      "[8, 5, 3, 5, 4, 7, 6, 7, 3, 5, 8, 0] 2322\n",
      "[8, 5, 3, 5, 4, 7, 6, 7, 3, 5, 8, 0] 2322\n",
      "[8, 5, 3, 5, 4, 7, 6, 7, 3, 5, 8, 0] 2322\n",
      "[8, 5, 3, 5, 4, 7, 6, 7, 3, 5, 8, 0] 2322\n",
      "[8, 5, 3, 5, 4, 7, 6, 7, 3, 5, 8, 0] 2322\n",
      "[8, 5, 3, 5, 4, 7, 6, 7, 3, 5, 8, 0] 2322\n",
      "[8, 5, 3, 5, 4, 7, 6, 7, 3, 5, 8, 0] 2322\n",
      "[8, 5, 3, 5, 4, 7, 6, 7, 3, 5, 8, 0] 2322\n"
     ]
    }
   ],
   "source": [
    "TEMP =  annealingoptimize(domain,schedulecost);"
   ]
  },
  {
   "cell_type": "code",
   "execution_count": 29,
   "metadata": {},
   "outputs": [
    {
     "ename": "IndexError",
     "evalue": "list index out of range",
     "output_type": "error",
     "traceback": [
      "\u001b[0;31m---------------------------------------------------------------------------\u001b[0m",
      "\u001b[0;31mIndexError\u001b[0m                                Traceback (most recent call last)",
      "\u001b[0;32m<ipython-input-29-d7eb0e92ace3>\u001b[0m in \u001b[0;36m<module>\u001b[0;34m\u001b[0m\n\u001b[0;32m----> 1\u001b[0;31m \u001b[0mHILL\u001b[0m \u001b[0;34m=\u001b[0m\u001b[0mhillclimb\u001b[0m\u001b[0;34m(\u001b[0m\u001b[0mdomain\u001b[0m\u001b[0;34m,\u001b[0m\u001b[0mschedulecost\u001b[0m\u001b[0;34m)\u001b[0m\u001b[0;34m\u001b[0m\u001b[0;34m\u001b[0m\u001b[0m\n\u001b[0m",
      "\u001b[0;32m<ipython-input-15-24f7bfe5630f>\u001b[0m in \u001b[0;36mhillclimb\u001b[0;34m(domain, costf)\u001b[0m\n\u001b[1;32m     17\u001b[0m      \u001b[0mbest\u001b[0m\u001b[0;34m=\u001b[0m\u001b[0mcurrent\u001b[0m\u001b[0;34m\u001b[0m\u001b[0;34m\u001b[0m\u001b[0m\n\u001b[1;32m     18\u001b[0m      \u001b[0;32mfor\u001b[0m \u001b[0mj\u001b[0m \u001b[0;32min\u001b[0m \u001b[0mrange\u001b[0m\u001b[0;34m(\u001b[0m\u001b[0mlen\u001b[0m\u001b[0;34m(\u001b[0m\u001b[0mneighbors\u001b[0m\u001b[0;34m)\u001b[0m\u001b[0;34m)\u001b[0m\u001b[0;34m:\u001b[0m\u001b[0;34m\u001b[0m\u001b[0;34m\u001b[0m\u001b[0m\n\u001b[0;32m---> 19\u001b[0;31m        \u001b[0mcost\u001b[0m\u001b[0;34m=\u001b[0m\u001b[0mcostf\u001b[0m\u001b[0;34m(\u001b[0m\u001b[0mneighbors\u001b[0m\u001b[0;34m[\u001b[0m\u001b[0mj\u001b[0m\u001b[0;34m]\u001b[0m\u001b[0;34m)\u001b[0m\u001b[0;34m\u001b[0m\u001b[0;34m\u001b[0m\u001b[0m\n\u001b[0m\u001b[1;32m     20\u001b[0m        \u001b[0;32mif\u001b[0m \u001b[0mcost\u001b[0m\u001b[0;34m<\u001b[0m\u001b[0mbest\u001b[0m\u001b[0;34m:\u001b[0m\u001b[0;34m\u001b[0m\u001b[0;34m\u001b[0m\u001b[0m\n\u001b[1;32m     21\u001b[0m          \u001b[0mbest\u001b[0m\u001b[0;34m=\u001b[0m\u001b[0mcost\u001b[0m\u001b[0;34m\u001b[0m\u001b[0;34m\u001b[0m\u001b[0m\n",
      "\u001b[0;32m<ipython-input-8-afe0f2775992>\u001b[0m in \u001b[0;36mschedulecost\u001b[0;34m(sol)\u001b[0m\n\u001b[1;32m      7\u001b[0m         \u001b[0;31m# Get the inbound and outbound flights\u001b[0m\u001b[0;34m\u001b[0m\u001b[0;34m\u001b[0m\u001b[0;34m\u001b[0m\u001b[0m\n\u001b[1;32m      8\u001b[0m         \u001b[0morigin\u001b[0m\u001b[0;34m=\u001b[0m\u001b[0mpeople\u001b[0m\u001b[0;34m[\u001b[0m\u001b[0md\u001b[0m\u001b[0;34m]\u001b[0m\u001b[0;34m[\u001b[0m\u001b[0;36m1\u001b[0m\u001b[0;34m]\u001b[0m\u001b[0;34m\u001b[0m\u001b[0;34m\u001b[0m\u001b[0m\n\u001b[0;32m----> 9\u001b[0;31m         \u001b[0moutbound\u001b[0m\u001b[0;34m=\u001b[0m\u001b[0mflights\u001b[0m\u001b[0;34m[\u001b[0m\u001b[0;34m(\u001b[0m\u001b[0morigin\u001b[0m\u001b[0;34m,\u001b[0m\u001b[0mdestination\u001b[0m\u001b[0;34m)\u001b[0m\u001b[0;34m]\u001b[0m\u001b[0;34m[\u001b[0m\u001b[0mint\u001b[0m\u001b[0;34m(\u001b[0m\u001b[0msol\u001b[0m\u001b[0;34m[\u001b[0m\u001b[0md\u001b[0m\u001b[0;34m]\u001b[0m\u001b[0;34m)\u001b[0m\u001b[0;34m]\u001b[0m\u001b[0;34m\u001b[0m\u001b[0;34m\u001b[0m\u001b[0m\n\u001b[0m\u001b[1;32m     10\u001b[0m         \u001b[0mreturnf\u001b[0m\u001b[0;34m=\u001b[0m\u001b[0mflights\u001b[0m\u001b[0;34m[\u001b[0m\u001b[0;34m(\u001b[0m\u001b[0mdestination\u001b[0m\u001b[0;34m,\u001b[0m\u001b[0morigin\u001b[0m\u001b[0;34m)\u001b[0m\u001b[0;34m]\u001b[0m\u001b[0;34m[\u001b[0m\u001b[0mint\u001b[0m\u001b[0;34m(\u001b[0m\u001b[0msol\u001b[0m\u001b[0;34m[\u001b[0m\u001b[0md\u001b[0m\u001b[0;34m+\u001b[0m\u001b[0;36m1\u001b[0m\u001b[0;34m]\u001b[0m\u001b[0;34m)\u001b[0m\u001b[0;34m]\u001b[0m\u001b[0;34m\u001b[0m\u001b[0;34m\u001b[0m\u001b[0m\n\u001b[1;32m     11\u001b[0m \u001b[0;34m\u001b[0m\u001b[0m\n",
      "\u001b[0;31mIndexError\u001b[0m: list index out of range"
     ]
    }
   ],
   "source": [
    "HILL = hillclimb(domain,schedulecost)"
   ]
  },
  {
   "cell_type": "code",
   "execution_count": 30,
   "metadata": {},
   "outputs": [],
   "source": [
    " RAND =randomoptimize(domain,schedulecost)"
   ]
  },
  {
   "cell_type": "code",
   "execution_count": 31,
   "metadata": {},
   "outputs": [
    {
     "name": "stdout",
     "output_type": "stream",
     "text": [
      "Цена от Генетического Алгоритма \t 2120\n",
      "Цена от Алгоритма Отжига \t 2322\n"
     ]
    },
    {
     "ename": "NameError",
     "evalue": "name 'HILL' is not defined",
     "output_type": "error",
     "traceback": [
      "\u001b[0;31m---------------------------------------------------------------------------\u001b[0m",
      "\u001b[0;31mNameError\u001b[0m                                 Traceback (most recent call last)",
      "\u001b[0;32m<ipython-input-31-ffaa45039c96>\u001b[0m in \u001b[0;36m<module>\u001b[0;34m\u001b[0m\n\u001b[1;32m      1\u001b[0m \u001b[0mprint\u001b[0m\u001b[0;34m(\u001b[0m\u001b[0;34m\"Цена от Генетического Алгоритма \\t {0}\"\u001b[0m\u001b[0;34m.\u001b[0m\u001b[0mformat\u001b[0m\u001b[0;34m(\u001b[0m\u001b[0mschedulecost\u001b[0m\u001b[0;34m(\u001b[0m\u001b[0mGENTETIC\u001b[0m\u001b[0;34m)\u001b[0m\u001b[0;34m)\u001b[0m\u001b[0;34m)\u001b[0m\u001b[0;34m\u001b[0m\u001b[0;34m\u001b[0m\u001b[0m\n\u001b[1;32m      2\u001b[0m \u001b[0mprint\u001b[0m\u001b[0;34m(\u001b[0m\u001b[0;34m\"Цена от Алгоритма Отжига \\t {0}\"\u001b[0m\u001b[0;34m.\u001b[0m\u001b[0mformat\u001b[0m\u001b[0;34m(\u001b[0m\u001b[0mschedulecost\u001b[0m\u001b[0;34m(\u001b[0m\u001b[0mTEMP\u001b[0m\u001b[0;34m)\u001b[0m\u001b[0;34m)\u001b[0m\u001b[0;34m)\u001b[0m\u001b[0;34m\u001b[0m\u001b[0;34m\u001b[0m\u001b[0m\n\u001b[0;32m----> 3\u001b[0;31m \u001b[0mprint\u001b[0m\u001b[0;34m(\u001b[0m\u001b[0;34m\"Цена от Алгоритма Спуска с Горы \\t {0}\"\u001b[0m\u001b[0;34m.\u001b[0m\u001b[0mformat\u001b[0m\u001b[0;34m(\u001b[0m\u001b[0mschedulecost\u001b[0m\u001b[0;34m(\u001b[0m\u001b[0mHILL\u001b[0m\u001b[0;34m)\u001b[0m\u001b[0;34m)\u001b[0m\u001b[0;34m)\u001b[0m\u001b[0;34m\u001b[0m\u001b[0;34m\u001b[0m\u001b[0m\n\u001b[0m\u001b[1;32m      4\u001b[0m \u001b[0mprint\u001b[0m\u001b[0;34m(\u001b[0m\u001b[0;34m\"Цена от Случайного поиска \\t {0}\"\u001b[0m\u001b[0;34m.\u001b[0m\u001b[0mformat\u001b[0m\u001b[0;34m(\u001b[0m\u001b[0mschedulecost\u001b[0m\u001b[0;34m(\u001b[0m\u001b[0mRAND\u001b[0m\u001b[0;34m)\u001b[0m\u001b[0;34m)\u001b[0m\u001b[0;34m)\u001b[0m\u001b[0;34m\u001b[0m\u001b[0;34m\u001b[0m\u001b[0m\n",
      "\u001b[0;31mNameError\u001b[0m: name 'HILL' is not defined"
     ]
    }
   ],
   "source": [
    "print(\"Цена от Генетического Алгоритма \\t {0}\".format(schedulecost(GENTETIC)))\n",
    "print(\"Цена от Алгоритма Отжига \\t {0}\".format(schedulecost(TEMP)))\n",
    "print(\"Цена от Алгоритма Спуска с Горы \\t {0}\".format(schedulecost(HILL)))\n",
    "print(\"Цена от Случайного поиска \\t {0}\".format(schedulecost(RAND)))"
   ]
  },
  {
   "cell_type": "code",
   "execution_count": null,
   "metadata": {
    "collapsed": true
   },
   "outputs": [],
   "source": []
  }
 ],
 "metadata": {
  "kernelspec": {
   "display_name": "Python 3",
   "language": "python",
   "name": "python3"
  },
  "language_info": {
   "codemirror_mode": {
    "name": "ipython",
    "version": 3
   },
   "file_extension": ".py",
   "mimetype": "text/x-python",
   "name": "python",
   "nbconvert_exporter": "python",
   "pygments_lexer": "ipython3",
   "version": "3.7.1"
  }
 },
 "nbformat": 4,
 "nbformat_minor": 2
}
